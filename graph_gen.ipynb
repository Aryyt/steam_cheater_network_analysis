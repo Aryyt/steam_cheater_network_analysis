{
 "cells": [
  {
   "cell_type": "code",
   "execution_count": 1,
   "metadata": {},
   "outputs": [],
   "source": [
    "from pandas import DataFrame\n",
    "import pickle\n",
    "import networkx as nx\n",
    "import pandas as pd"
   ]
  },
  {
   "cell_type": "code",
   "execution_count": 2,
   "metadata": {},
   "outputs": [],
   "source": [
    "def check_status(ban_status: bool):\n",
    "        if ban_status == True:\n",
    "            return 'Cheater'\n",
    "        return 'Legit'"
   ]
  },
  {
   "cell_type": "code",
   "execution_count": 3,
   "metadata": {},
   "outputs": [],
   "source": [
    "def generate_vac_graph_only_processed():\n",
    "    G = nx.Graph()\n",
    "    with open(\"data/bloomData.pkl\", \"rb\") as dataPickle:\n",
    "        df_full_data: DataFrame = pickle.load(dataPickle, fix_imports=True)\n",
    "    \n",
    "    processedIDs = set[str]([id for id in df_full_data.index])\n",
    "    \n",
    "    for _, row in df_full_data.iterrows():\n",
    "        current_id = row['steamid']\n",
    "        vac_banned = row['VACBanned']\n",
    "        \n",
    "        status = check_status(vac_banned)\n",
    "        \n",
    "        G.add_node(current_id, status = status)\n",
    "        \n",
    "        for friend in row[\"friendsList\"]:\n",
    "            if friend['steamid'] in processedIDs:\n",
    "                \n",
    "                friend_ban_status = df_full_data[df_full_data['steamid'] == friend['steamid']]['VACBanned'].iloc[0]\n",
    "                friend_status = check_status(friend_ban_status)\n",
    "                G.add_node(friend['steamid'], status = friend_status)\n",
    "                G.add_edge(current_id, friend['steamid'], edge_type='friend')\n",
    "    print('Done')\n",
    "    nx.write_gexf(G, \"./data/tennative_graph_only_processed_new.gexf\")\n",
    "    return G\n"
   ]
  },
  {
   "cell_type": "code",
   "execution_count": 4,
   "metadata": {},
   "outputs": [
    {
     "name": "stdout",
     "output_type": "stream",
     "text": [
      "Done\n"
     ]
    }
   ],
   "source": [
    "G = generate_vac_graph_only_processed()"
   ]
  }
 ],
 "metadata": {
  "kernelspec": {
   "display_name": "Python 3",
   "language": "python",
   "name": "python3"
  },
  "language_info": {
   "codemirror_mode": {
    "name": "ipython",
    "version": 3
   },
   "file_extension": ".py",
   "mimetype": "text/x-python",
   "name": "python",
   "nbconvert_exporter": "python",
   "pygments_lexer": "ipython3",
   "version": "3.10.15"
  }
 },
 "nbformat": 4,
 "nbformat_minor": 2
}

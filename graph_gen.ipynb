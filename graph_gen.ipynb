{
 "cells": [
  {
   "cell_type": "code",
   "execution_count": 1,
   "metadata": {},
   "outputs": [],
   "source": [
    "from pandas import DataFrame\n",
    "import pickle\n",
    "import networkx as nx\n",
    "import pandas as pd"
   ]
  },
  {
   "cell_type": "code",
   "execution_count": 2,
   "metadata": {},
   "outputs": [],
   "source": [
    "def check_status(ban_status: bool):\n",
    "        if ban_status == True:\n",
    "            return 'Cheater'\n",
    "        return 'Legit'"
   ]
  },
  {
   "cell_type": "code",
   "execution_count": 3,
   "metadata": {},
   "outputs": [],
   "source": [
    "def get_privacy_setting(privacy_setting_num: int):\n",
    "        if privacy_setting_num == 3:\n",
    "            privacy_setting = 'Public'\n",
    "        elif privacy_setting_num == 1:\n",
    "            privacy_setting = 'Private'\n",
    "        else:\n",
    "            privacy_setting = 'Friends-Only or Other'\n",
    "        return privacy_setting"
   ]
  },
  {
   "cell_type": "code",
   "execution_count": 4,
   "metadata": {},
   "outputs": [],
   "source": [
    "def generate_vac_graph_only_processed():\n",
    "    G = nx.Graph()\n",
    "    with open(\"data/bloomData.pkl\", \"rb\") as dataPickle:\n",
    "        df_full_data: DataFrame = pickle.load(dataPickle, fix_imports=True)\n",
    "    \n",
    "    processedIDs = set[str]([id for id in df_full_data.index])\n",
    "    \n",
    "    for _, row in df_full_data.iterrows():\n",
    "        current_id = row['steamid']\n",
    "        vac_banned = row['VACBanned']\n",
    "        privacy_num = row['communityvisibilitystate']\n",
    "        \n",
    "        status = check_status(vac_banned)\n",
    "        privacy = get_privacy_setting(privacy_num)\n",
    "        \n",
    "        G.add_node(current_id, status = status, privacy = privacy)\n",
    "        \n",
    "\n",
    "        \n",
    "        for friend in row[\"friendsList\"]:\n",
    "            if friend['steamid'] in processedIDs:\n",
    "                \n",
    "                friend_ban_status = df_full_data[df_full_data['steamid'] == friend['steamid']]['VACBanned'].iloc[0]\n",
    "                friend_status = check_status(friend_ban_status)\n",
    "                friend_privacy_num = df_full_data[df_full_data['steamid'] == friend['steamid']]['communityvisibilitystate'].iloc[0]\n",
    "                friend_privacy = get_privacy_setting(friend_privacy_num)\n",
    "                \n",
    "                G.add_node(friend['steamid'], status = friend_status, privacy = friend_privacy)\n",
    "                G.add_edge(current_id, friend['steamid'], edge_type='friend')\n",
    "    print('Done')\n",
    "    nx.write_gexf(G, \"./data/tennative_graph_only_processed_new.gexf\")\n",
    "    return G\n"
   ]
  },
  {
   "cell_type": "code",
   "execution_count": null,
   "metadata": {},
   "outputs": [],
   "source": [
    "def generate_vac_graph_processed_with_games_directed():\n",
    "    G = nx.DiGraph()\n",
    "    with open(\"data/bloomData.pkl\", \"rb\") as dataPickle:\n",
    "        df_full_data: DataFrame = pickle.load(dataPickle, fix_imports=True)\n",
    "    \n",
    "    processedIDs = set[str]([id for id in df_full_data.index])\n",
    "    \n",
    "    for _, row in df_full_data.iterrows():\n",
    "        current_id = row['steamid']\n",
    "        vac_banned = row['VACBanned']\n",
    "        privacy_num = row['communityvisibilitystate']\n",
    "        \n",
    "        status = check_status(vac_banned)\n",
    "        privacy = get_privacy_setting(privacy_num)\n",
    "        \n",
    "        G.add_node(current_id, type = 'User', status = status, privacy = privacy)\n",
    "        if isinstance(row['ownedGames'], list):\n",
    "            for game in row['ownedGames']:\n",
    "                G.add_node(game['name'], type = 'Game')\n",
    "                G.add_edge(current_id, game['name'])\n",
    "        \n",
    "        for friend in row[\"friendsList\"]:\n",
    "            if friend['steamid'] in processedIDs:\n",
    "                \n",
    "                friend_ban_status = df_full_data[df_full_data['steamid'] == friend['steamid']]['VACBanned'].iloc[0]\n",
    "                friend_status = check_status(friend_ban_status)\n",
    "                \n",
    "                friend_privacy_num = df_full_data[df_full_data['steamid'] == friend['steamid']]['communityvisibilitystate'].iloc[0]\n",
    "                friend_privacy = get_privacy_setting(friend_privacy_num)\n",
    "                \n",
    "                G.add_node(friend['steamid'], status = friend_status, privacy = friend_privacy)\n",
    "                \n",
    "                friend_games = df_full_data[df_full_data['steamid'] == friend['steamid']]['ownedGames'].iloc[0]\n",
    "                if isinstance(friend_games, list):\n",
    "                    for game in friend_games:\n",
    "                        G.add_node(game['name'], type = 'Game')\n",
    "                        G.add_edge(friend['steamid'], game['name'])\n",
    "                \n",
    "                if friend_ban_status == True and vac_banned == True:\n",
    "                    \n",
    "                    friend_last_banned = df_full_data[df_full_data['steamid'] == friend['steamid']]['DaysSinceLastBan'].iloc[0]\n",
    "                    current_last_banned = row['DaysSinceLastBan']\n",
    "                    \n",
    "                    if current_last_banned < friend_last_banned:\n",
    "                        G.add_edge(current_id, friend['steamid'], edge_type='friend')\n",
    "                    else:\n",
    "                        G.add_edge(friend['steamid'], current_id, edge_type='friend')\n",
    "                else:\n",
    "                    G.add_edge(current_id, friend['steamid'], edge_type='friend')\n",
    "                    G.add_edge(friend['steamid'], current_id, edge_type='friend')\n",
    "                        \n",
    "                    \n",
    "    print('Done')\n",
    "    nx.write_gexf(G, \"./data/tennative_graph_only_processed_with_games_directed_new.gexf\")\n",
    "    return G"
   ]
  },
  {
   "cell_type": "code",
   "execution_count": 6,
   "metadata": {},
   "outputs": [
    {
     "ename": "TypeError",
     "evalue": "'NoneType' object is not iterable",
     "output_type": "error",
     "traceback": [
      "\u001b[1;31m---------------------------------------------------------------------------\u001b[0m",
      "\u001b[1;31mTypeError\u001b[0m                                 Traceback (most recent call last)",
      "Cell \u001b[1;32mIn[6], line 1\u001b[0m\n\u001b[1;32m----> 1\u001b[0m G \u001b[38;5;241m=\u001b[39m generate_vac_graph_processed_with_games_directed()\n",
      "Cell \u001b[1;32mIn[5], line 35\u001b[0m, in \u001b[0;36mgenerate_vac_graph_processed_with_games_directed\u001b[1;34m()\u001b[0m\n\u001b[0;32m     31\u001b[0m G\u001b[38;5;241m.\u001b[39madd_node(friend[\u001b[38;5;124m'\u001b[39m\u001b[38;5;124msteamid\u001b[39m\u001b[38;5;124m'\u001b[39m], status \u001b[38;5;241m=\u001b[39m friend_status, privacy \u001b[38;5;241m=\u001b[39m friend_privacy)\n\u001b[0;32m     33\u001b[0m friend_games \u001b[38;5;241m=\u001b[39m df_full_data[df_full_data[\u001b[38;5;124m'\u001b[39m\u001b[38;5;124msteamid\u001b[39m\u001b[38;5;124m'\u001b[39m] \u001b[38;5;241m==\u001b[39m friend[\u001b[38;5;124m'\u001b[39m\u001b[38;5;124msteamid\u001b[39m\u001b[38;5;124m'\u001b[39m]][\u001b[38;5;124m'\u001b[39m\u001b[38;5;124mownedGames\u001b[39m\u001b[38;5;124m'\u001b[39m]\u001b[38;5;241m.\u001b[39miloc[\u001b[38;5;241m0\u001b[39m]\n\u001b[1;32m---> 35\u001b[0m \u001b[38;5;28;01mfor\u001b[39;00m game \u001b[38;5;129;01min\u001b[39;00m friend_games:\n\u001b[0;32m     36\u001b[0m     G\u001b[38;5;241m.\u001b[39madd_node(game[\u001b[38;5;124m'\u001b[39m\u001b[38;5;124mname\u001b[39m\u001b[38;5;124m'\u001b[39m], \u001b[38;5;28mtype\u001b[39m \u001b[38;5;241m=\u001b[39m \u001b[38;5;124m'\u001b[39m\u001b[38;5;124mGame\u001b[39m\u001b[38;5;124m'\u001b[39m)\n\u001b[0;32m     37\u001b[0m     G\u001b[38;5;241m.\u001b[39madd_edge(friend[\u001b[38;5;124m'\u001b[39m\u001b[38;5;124msteamid\u001b[39m\u001b[38;5;124m'\u001b[39m], game[\u001b[38;5;124m'\u001b[39m\u001b[38;5;124mname\u001b[39m\u001b[38;5;124m'\u001b[39m])\n",
      "\u001b[1;31mTypeError\u001b[0m: 'NoneType' object is not iterable"
     ]
    }
   ],
   "source": [
    "G = generate_vac_graph_processed_with_games_directed()"
   ]
  },
  {
   "cell_type": "code",
   "execution_count": null,
   "metadata": {},
   "outputs": [
    {
     "name": "stdout",
     "output_type": "stream",
     "text": [
      "Done\n"
     ]
    }
   ],
   "source": [
    "G = generate_vac_graph_only_processed()"
   ]
  }
 ],
 "metadata": {
  "kernelspec": {
   "display_name": "steam_api",
   "language": "python",
   "name": "python3"
  },
  "language_info": {
   "codemirror_mode": {
    "name": "ipython",
    "version": 3
   },
   "file_extension": ".py",
   "mimetype": "text/x-python",
   "name": "python",
   "nbconvert_exporter": "python",
   "pygments_lexer": "ipython3",
   "version": "3.12.7"
  }
 },
 "nbformat": 4,
 "nbformat_minor": 2
}

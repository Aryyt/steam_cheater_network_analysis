{
 "cells": [
  {
   "cell_type": "code",
   "execution_count": 33,
   "metadata": {},
   "outputs": [],
   "source": [
    "import pickle\n",
    "from pandas import DataFrame\n",
    "import pandas\n",
    "\n",
    "\n",
    "pandas.options.mode.copy_on_write = True\n",
    "pandas.set_option(\"future.no_silent_downcasting\", True)\n",
    "try:\n",
    "    with open(\"data/bloomData.pkl\", \"rb\") as dataPickle:\n",
    "        fullData: DataFrame = pickle.load(dataPickle, fix_imports=True)\n",
    "except:\n",
    "    fullData = DataFrame()"
   ]
  },
  {
   "cell_type": "markdown",
   "metadata": {},
   "source": [
    "Goals\n",
    "\n",
    "* [] Temporal Analysis of Cheating Spread\n",
    "* [] Predictive Modelling of Cheating Risk\n",
    "* [] Game ownership analysis\n",
    "* [] Playtime analysis"
   ]
  },
  {
   "cell_type": "markdown",
   "metadata": {},
   "source": [
    "## Filter to important entries"
   ]
  },
  {
   "cell_type": "code",
   "execution_count": 34,
   "metadata": {},
   "outputs": [],
   "source": [
    "fullData:DataFrame = fullData.replace({\"EconomyBan\": {\"banned\": True, \"none\": False}}).infer_objects(copy=False)\n",
    "\n",
    "\n",
    "\n",
    "data:DataFrame = fullData.loc[\n",
    "    :,\n",
    "    [\n",
    "        \"communityvisibilitystate\",\n",
    "        \"personastate\",\n",
    "        \"timecreated\",\n",
    "        \"CommunityBanned\",\n",
    "        \"NumberOfVACBans\",\n",
    "        \"DaysSinceLastBan\",\n",
    "        \"NumberOfGameBans\",\n",
    "        \"EconomyBan\",\n",
    "        \"friendsList\",\n",
    "        \"ownedGames\",\n",
    "        \"groups\",\n",
    "        \"recentlyPlayed\",\n",
    "        \"commentpermission\",\n",
    "        \"loccountrycode\",\n",
    "        \"avatar\",\n",
    "    ],\n",
    "]"
   ]
  },
  {
   "cell_type": "code",
   "execution_count": 35,
   "metadata": {},
   "outputs": [],
   "source": [
    "from datetime import date, datetime, timedelta\n",
    "from math import isnan\n",
    "import random\n",
    "from time import localtime\n",
    "\n",
    "from numpy import number\n",
    "from pandas import Series, Timedelta"
   ]
  },
  {
   "cell_type": "code",
   "execution_count": 36,
   "metadata": {},
   "outputs": [],
   "source": [
    "EARLIESTPOSSIBLEBAN = datetime(2003, 9, 12)\n",
    "\n",
    "\n",
    "def estimatedBans(x):\n",
    "    numBans: int = x[\"NumberOfVACBans\"] + x[\"NumberOfGameBans\"]\n",
    "\n",
    "    if numBans == 0:\n",
    "        return []\n",
    "\n",
    "    lastBan  = datetime.fromtimestamp(x[\"LastBanTime\"])\n",
    "    timeCreated: float = x[\"timecreated\"]\n",
    "    earliestPossibleBan : datetime\n",
    "\n",
    "    # timeCreated is not available\n",
    "    #\n",
    "    # Assumption made:\n",
    "    #   The criminals activity is spaced based on a normal distribution centred around the last ban time\n",
    "    if isnan(timeCreated):\n",
    "        timeSinceLastBan = timedelta(x[\"DaysSinceLastBan\"])\n",
    "        earliestPossibleBan = max(lastBan - timeSinceLastBan * numBans, EARLIESTPOSSIBLEBAN)\n",
    "    else:\n",
    "        earliestPossibleBan = datetime.fromtimestamp(timeCreated)\n",
    "\n",
    "    banRange = lastBan - earliestPossibleBan\n",
    "    bans = []\n",
    "\n",
    "    for i in range(numBans):\n",
    "        u = random.uniform(0,1)\n",
    "        bans.append((lastBan - u * banRange).timestamp())\n",
    "\n",
    "    bans.sort()\n",
    "    bans.append(lastBan.timestamp())\n",
    "\n",
    "\n",
    "    return bans"
   ]
  },
  {
   "cell_type": "code",
   "execution_count": 37,
   "metadata": {},
   "outputs": [],
   "source": [
    "DEFAULT_AVATAR = (\n",
    "    \"https://avatars.steamstatic.com/fef49e7fa7e1997310d705b2a6158ff8dc1cdfeb.jpg\"\n",
    ")\n",
    "\n",
    "data[\"MisdemenourCount\"] = (\n",
    "    data[\"NumberOfVACBans\"]\n",
    "    + data[\"NumberOfGameBans\"]\n",
    "    + data[\"CommunityBanned\"].apply(lambda b: 1 if b else 0)\n",
    "    + data[\"EconomyBan\"].apply(lambda b: 1 if b else 0)\n",
    ")\n",
    "\n",
    "# Doesn't account for people who doesn't publicize the info\n",
    "data[\"ActiveAfterBan\"] = data[\"recentlyPlayed\"].apply(\n",
    "    lambda d: d.get(\"total_count\", 0) > 0\n",
    ") & (data[\"NumberOfVACBans\"] > 0)\n",
    "\n",
    "data[\"HasDefaultAvatar\"] = data[\"avatar\"] == DEFAULT_AVATAR\n",
    "data[\"WeWereBadButNowWereGood\"] = data[\"DaysSinceLastBan\"] > 365\n",
    "\n",
    "currentTimestamp = datetime.now()\n",
    "data[\"LastBanTime\"] = data.apply(\n",
    "    lambda x: (currentTimestamp - timedelta(x[\"DaysSinceLastBan\"])).timestamp() if (x[\"NumberOfVACBans\"] + x[\"NumberOfGameBans\"]) else None #type:ignore\n",
    "    , axis = 1)\n",
    "\n",
    "data[\"averageTimeBetweenBans\"] = (\n",
    "    (data[\"LastBanTime\"] - data[\"timecreated\"])\n",
    "    / (data[\"NumberOfVACBans\"] + data[\"NumberOfGameBans\"])\n",
    ").apply(lambda d: None if isnan(d) else d)\n",
    "\n",
    "data[\"EstimatedFirstBan\"] = data[\"LastBanTime\"] - data[\"averageTimeBetweenBans\"] * (\n",
    "    (data[\"NumberOfVACBans\"] + data[\"NumberOfGameBans\"]) - 1\n",
    ")\n",
    "\n",
    "data[\"nextBanTime\"] = data[\"LastBanTime\"] + data[\"averageTimeBetweenBans\"]\n",
    "\n",
    "# First time is the creation time\n",
    "# Any subsequent times are ban times\n",
    "data[\"synthesizedTimes\"] = data.apply(lambda x : estimatedBans(x), axis = 1) \n",
    "data[\"timecreated\"] = data.apply(lambda x : x[\"synthesizedTimes\"][0] if len(x[\"synthesizedTimes\"]) > 0 else None, axis = 1) #type:ignore\n",
    "\n",
    "data[\"EstimatedBanTimes\"] = data.apply(lambda x : x[\"synthesizedTimes\"][1:] if len(x[\"synthesizedTimes\"]) > 0 else [], axis=1)"
   ]
  },
  {
   "cell_type": "markdown",
   "metadata": {},
   "source": [
    "We always have information about the latest cheating incident of a particular user, and the amount of time passed since then. We attempt to synthesize the approximate times by assuming that the cheating incidents are evenly spaced between account creation time and the last ban time.\n",
    "\n",
    "In the event that we do not have information about the creation time of a steam user account, we attempt to synthesize ban intervals using a normal distribution centering on the time since the last ban."
   ]
  },
  {
   "cell_type": "markdown",
   "metadata": {},
   "source": [
    "If a non-cheater have an unknown time, then we synthesize the time the account is created using the time of first friendship (because who plays without friends?)\n",
    "If the friends list isn't public, then we synthesize it using a normal distribution against the population"
   ]
  },
  {
   "cell_type": "code",
   "execution_count": 38,
   "metadata": {},
   "outputs": [],
   "source": [
    "from math import nan\n",
    "from typing import Any, cast\n",
    "\n",
    "import numpy as np\n",
    "\n",
    "\n",
    "def populateTimeCreatedFromFriends(x: dict[str, Any]):\n",
    "    timeCreated = x[\"timecreated\"]\n",
    "    if not isnan(timeCreated):\n",
    "        return timeCreated\n",
    "\n",
    "    friendsList = [f[\"friend_since\"] for f in x[\"friendsList\"] if f[\"friend_since\"] != 0]\n",
    "    if len(friendsList) == 0:\n",
    "        return nan\n",
    "\n",
    "    minFriendTime = min(friendsList)\n",
    "    return minFriendTime\n",
    "\n",
    "\n",
    "timecreated:Series = data.apply(populateTimeCreatedFromFriends, axis=1).dropna()\n",
    "\n",
    "validTimeMax = np.max(timecreated)\n",
    "validTimeMin = np.min(timecreated)\n",
    "validTimeRange = validTimeMax - validTimeMin\n",
    "\n",
    "validTimeStdDev = np.std(timecreated)\n",
    "\n",
    "\n",
    "def populateTimeCreatedFromPopulation(x: dict[str, Any]):\n",
    "    timeCreated = x[\"timecreated\"]\n",
    "    if not isnan(timeCreated):\n",
    "        return timeCreated\n",
    "    \n",
    "\n",
    "    return validTimeMin + random.uniform(0,1) * validTimeRange # type:ignore\n",
    "\n",
    "data[\"timecreated\"] = data.apply(populateTimeCreatedFromPopulation, axis=1)\n"
   ]
  },
  {
   "cell_type": "markdown",
   "metadata": {},
   "source": [
    "## Temporal analysis of cheating spread"
   ]
  },
  {
   "cell_type": "code",
   "execution_count": 43,
   "metadata": {},
   "outputs": [
    {
     "data": {
      "image/png": "[encoded data removed]",
      "text/plain": [
       "<Figure size 640x480 with 1 Axes>"
      ]
     },
     "metadata": {},
     "output_type": "display_data"
    }
   ],
   "source": [
    "\n",
    "\n",
    "from sys import exception\n",
    "from matplotlib import legend\n",
    "import matplotlib.pyplot as plt\n",
    "\n",
    "cheatingIncidents = []\n",
    "firstCheatingTimes= []\n",
    "\n",
    "uniqueCheaters = set()\n",
    "numUniqueCheaters = []\n",
    "numPlayers = []\n",
    "\n",
    "count = 0\n",
    "\n",
    "for i, e in data.sort_values(\"timecreated\").iterrows(): \n",
    "    count+=1\n",
    "    steamId = i\n",
    "    banTimes  = e[\"EstimatedBanTimes\"]\n",
    "\n",
    "    for t in banTimes:\n",
    "        cheatingIncidents.append((t, i))\n",
    "        numPlayers.append(count)\n",
    "\n",
    "    if(len(banTimes) == 0):\n",
    "        continue\n",
    "    \n",
    "    firstCheatingTimes.append(banTimes[0])\n",
    "\n",
    "\n",
    "cheatingIncidents.sort(key = lambda x : x[0])\n",
    "\n",
    "\n",
    "cheatingTimes = []\n",
    "for t in cheatingIncidents:\n",
    "    cheatingTimes.append(datetime.fromtimestamp(t[0]))\n",
    "    uniqueCheaters.add(t[1])\n",
    "    numUniqueCheaters.append(len(uniqueCheaters))\n",
    "\n",
    "\n",
    "\n",
    "plt.hist(cheatingTimes, log=True, bins=\"auto\")\n",
    "\n",
    "plt.xlabel(\"Time\")\n",
    "plt.ylabel(\"Count\")\n",
    "plt.plot(cheatingTimes,numUniqueCheaters)\n",
    "plt.plot(cheatingTimes,numPlayers)\n",
    "plt.legend([\"Total number of unique cheaters\", \"Total number of players on steam\", \"Number of cheating incidents\"])\n",
    "plt.show()\n",
    "\n",
    "\n"
   ]
  },
  {
   "cell_type": "markdown",
   "metadata": {},
   "source": [
    "By plotting the number of cheaters"
   ]
  }
 ],
 "metadata": {
  "kernelspec": {
   "display_name": ".venv",
   "language": "python",
   "name": "python3"
  },
  "language_info": {
   "codemirror_mode": {
    "name": "ipython",
    "version": 3
   },
   "file_extension": ".py",
   "mimetype": "text/x-python",
   "name": "python",
   "nbconvert_exporter": "python",
   "pygments_lexer": "ipython3",
   "version": "3.13.0"
  }
 },
 "nbformat": 4,
 "nbformat_minor": 2
}

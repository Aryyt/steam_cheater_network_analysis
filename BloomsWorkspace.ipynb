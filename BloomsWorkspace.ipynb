{
 "cells": [
  {
   "cell_type": "code",
   "execution_count": null,
   "metadata": {},
   "outputs": [],
   "source": [
    "import pickle\n",
    "from pandas import DataFrame\n",
    "import pandas\n",
    "\n",
    "\n",
    "pandas.options.mode.copy_on_write = True\n",
    "pandas.set_option(\"future.no_silent_downcasting\", True)\n",
    "try:\n",
    "    with open(\"data/bloomData.pkl\", \"rb\") as dataPickle:\n",
    "        fullData: DataFrame = pickle.load(dataPickle, fix_imports=True)\n",
    "except:\n",
    "    fullData = DataFrame()"
   ]
  },
  {
   "cell_type": "markdown",
   "metadata": {},
   "source": [
    "## Filter to important entries"
   ]
  },
  {
   "cell_type": "code",
   "execution_count": null,
   "metadata": {},
   "outputs": [],
   "source": [
    "fullData = fullData.replace({\"EconomyBan\": {\"banned\": True, \"none\": False}}).infer_objects(copy=False)\n",
    "\n",
    "\n",
    "\n",
    "data = fullData.loc[\n",
    "    :,\n",
    "    [\n",
    "        \"communityvisibilitystate\",\n",
    "        \"personastate\",\n",
    "        \"timecreated\",\n",
    "        \"CommunityBanned\",\n",
    "        \"NumberOfVACBans\",\n",
    "        \"DaysSinceLastBan\",\n",
    "        \"NumberOfGameBans\",\n",
    "        \"EconomyBan\",\n",
    "        \"friendsList\",\n",
    "        \"ownedGames\",\n",
    "        \"groups\",\n",
    "        \"recentlyPlayed\",\n",
    "        \"commentpermission\",\n",
    "        \"loccountrycode\",\n",
    "        \"avatar\",\n",
    "    ],\n",
    "]"
   ]
  },
  {
   "cell_type": "markdown",
   "metadata": {},
   "source": []
  },
  {
   "cell_type": "code",
   "execution_count": null,
   "metadata": {},
   "outputs": [
    {
     "ename": "KeyError",
     "evalue": "''",
     "output_type": "error",
     "traceback": [
      "\u001b[0;31m---------------------------------------------------------------------------\u001b[0m",
      "\u001b[0;31mKeyError\u001b[0m                                  Traceback (most recent call last)",
      "File \u001b[0;32m~/Source/steam_cheater_network_analysis/.venv/lib64/python3.13/site-packages/pandas/core/indexes/base.py:3805\u001b[0m, in \u001b[0;36mIndex.get_loc\u001b[0;34m(self, key)\u001b[0m\n\u001b[1;32m   3804\u001b[0m \u001b[38;5;28;01mtry\u001b[39;00m:\n\u001b[0;32m-> 3805\u001b[0m     \u001b[38;5;28;01mreturn\u001b[39;00m \u001b[38;5;28;43mself\u001b[39;49m\u001b[38;5;241;43m.\u001b[39;49m\u001b[43m_engine\u001b[49m\u001b[38;5;241;43m.\u001b[39;49m\u001b[43mget_loc\u001b[49m\u001b[43m(\u001b[49m\u001b[43mcasted_key\u001b[49m\u001b[43m)\u001b[49m\n\u001b[1;32m   3806\u001b[0m \u001b[38;5;28;01mexcept\u001b[39;00m \u001b[38;5;167;01mKeyError\u001b[39;00m \u001b[38;5;28;01mas\u001b[39;00m err:\n",
      "File \u001b[0;32mindex.pyx:167\u001b[0m, in \u001b[0;36mpandas._libs.index.IndexEngine.get_loc\u001b[0;34m()\u001b[0m\n",
      "File \u001b[0;32mindex.pyx:196\u001b[0m, in \u001b[0;36mpandas._libs.index.IndexEngine.get_loc\u001b[0;34m()\u001b[0m\n",
      "File \u001b[0;32mpandas/_libs/hashtable_class_helper.pxi:7081\u001b[0m, in \u001b[0;36mpandas._libs.hashtable.PyObjectHashTable.get_item\u001b[0;34m()\u001b[0m\n",
      "File \u001b[0;32mpandas/_libs/hashtable_class_helper.pxi:7089\u001b[0m, in \u001b[0;36mpandas._libs.hashtable.PyObjectHashTable.get_item\u001b[0;34m()\u001b[0m\n",
      "\u001b[0;31mKeyError\u001b[0m: ''",
      "\nThe above exception was the direct cause of the following exception:\n",
      "\u001b[0;31mKeyError\u001b[0m                                  Traceback (most recent call last)",
      "Cell \u001b[0;32mIn[24], line 26\u001b[0m\n\u001b[1;32m     24\u001b[0m data[\u001b[38;5;124m\"\u001b[39m\u001b[38;5;124mHasDefaultAvatar\u001b[39m\u001b[38;5;124m\"\u001b[39m] \u001b[38;5;241m=\u001b[39m data[\u001b[38;5;124m\"\u001b[39m\u001b[38;5;124mavatar\u001b[39m\u001b[38;5;124m\"\u001b[39m] \u001b[38;5;241m==\u001b[39m DEFAULT_AVATAR\n\u001b[1;32m     25\u001b[0m data[\u001b[38;5;124m\"\u001b[39m\u001b[38;5;124mWeWereBadButNowWereGood\u001b[39m\u001b[38;5;124m\"\u001b[39m] \u001b[38;5;241m=\u001b[39m data[\u001b[38;5;124m\"\u001b[39m\u001b[38;5;124mDaysSinceLastBan\u001b[39m\u001b[38;5;124m\"\u001b[39m] \u001b[38;5;241m>\u001b[39m \u001b[38;5;241m365\u001b[39m\n\u001b[0;32m---> 26\u001b[0m \u001b[43mdata\u001b[49m\u001b[43m[\u001b[49m\u001b[38;5;124;43m\"\u001b[39;49m\u001b[38;5;124;43m\"\u001b[39;49m\u001b[43m]\u001b[49m\n\u001b[1;32m     28\u001b[0m currentTimestamp \u001b[38;5;241m=\u001b[39m datetime\u001b[38;5;241m.\u001b[39mnow()\n\u001b[1;32m     29\u001b[0m data[\u001b[38;5;124m\"\u001b[39m\u001b[38;5;124mLastBanTime\u001b[39m\u001b[38;5;124m\"\u001b[39m] \u001b[38;5;241m=\u001b[39m data[\u001b[38;5;124m\"\u001b[39m\u001b[38;5;124mDaysSinceLastBan\u001b[39m\u001b[38;5;124m\"\u001b[39m]\u001b[38;5;241m.\u001b[39mapply(\n\u001b[1;32m     30\u001b[0m     \u001b[38;5;28;01mlambda\u001b[39;00m d: (currentTimestamp \u001b[38;5;241m-\u001b[39m timedelta(d))\u001b[38;5;241m.\u001b[39mtimestamp() \u001b[38;5;28;01mif\u001b[39;00m d \u001b[38;5;241m>\u001b[39m \u001b[38;5;241m0\u001b[39m \u001b[38;5;28;01melse\u001b[39;00m \u001b[38;5;28;01mNone\u001b[39;00m\n\u001b[1;32m     31\u001b[0m )\n",
      "File \u001b[0;32m~/Source/steam_cheater_network_analysis/.venv/lib64/python3.13/site-packages/pandas/core/frame.py:4102\u001b[0m, in \u001b[0;36mDataFrame.__getitem__\u001b[0;34m(self, key)\u001b[0m\n\u001b[1;32m   4100\u001b[0m \u001b[38;5;28;01mif\u001b[39;00m \u001b[38;5;28mself\u001b[39m\u001b[38;5;241m.\u001b[39mcolumns\u001b[38;5;241m.\u001b[39mnlevels \u001b[38;5;241m>\u001b[39m \u001b[38;5;241m1\u001b[39m:\n\u001b[1;32m   4101\u001b[0m     \u001b[38;5;28;01mreturn\u001b[39;00m \u001b[38;5;28mself\u001b[39m\u001b[38;5;241m.\u001b[39m_getitem_multilevel(key)\n\u001b[0;32m-> 4102\u001b[0m indexer \u001b[38;5;241m=\u001b[39m \u001b[38;5;28;43mself\u001b[39;49m\u001b[38;5;241;43m.\u001b[39;49m\u001b[43mcolumns\u001b[49m\u001b[38;5;241;43m.\u001b[39;49m\u001b[43mget_loc\u001b[49m\u001b[43m(\u001b[49m\u001b[43mkey\u001b[49m\u001b[43m)\u001b[49m\n\u001b[1;32m   4103\u001b[0m \u001b[38;5;28;01mif\u001b[39;00m is_integer(indexer):\n\u001b[1;32m   4104\u001b[0m     indexer \u001b[38;5;241m=\u001b[39m [indexer]\n",
      "File \u001b[0;32m~/Source/steam_cheater_network_analysis/.venv/lib64/python3.13/site-packages/pandas/core/indexes/base.py:3812\u001b[0m, in \u001b[0;36mIndex.get_loc\u001b[0;34m(self, key)\u001b[0m\n\u001b[1;32m   3807\u001b[0m     \u001b[38;5;28;01mif\u001b[39;00m \u001b[38;5;28misinstance\u001b[39m(casted_key, \u001b[38;5;28mslice\u001b[39m) \u001b[38;5;129;01mor\u001b[39;00m (\n\u001b[1;32m   3808\u001b[0m         \u001b[38;5;28misinstance\u001b[39m(casted_key, abc\u001b[38;5;241m.\u001b[39mIterable)\n\u001b[1;32m   3809\u001b[0m         \u001b[38;5;129;01mand\u001b[39;00m \u001b[38;5;28many\u001b[39m(\u001b[38;5;28misinstance\u001b[39m(x, \u001b[38;5;28mslice\u001b[39m) \u001b[38;5;28;01mfor\u001b[39;00m x \u001b[38;5;129;01min\u001b[39;00m casted_key)\n\u001b[1;32m   3810\u001b[0m     ):\n\u001b[1;32m   3811\u001b[0m         \u001b[38;5;28;01mraise\u001b[39;00m InvalidIndexError(key)\n\u001b[0;32m-> 3812\u001b[0m     \u001b[38;5;28;01mraise\u001b[39;00m \u001b[38;5;167;01mKeyError\u001b[39;00m(key) \u001b[38;5;28;01mfrom\u001b[39;00m \u001b[38;5;21;01merr\u001b[39;00m\n\u001b[1;32m   3813\u001b[0m \u001b[38;5;28;01mexcept\u001b[39;00m \u001b[38;5;167;01mTypeError\u001b[39;00m:\n\u001b[1;32m   3814\u001b[0m     \u001b[38;5;66;03m# If we have a listlike key, _check_indexing_error will raise\u001b[39;00m\n\u001b[1;32m   3815\u001b[0m     \u001b[38;5;66;03m#  InvalidIndexError. Otherwise we fall through and re-raise\u001b[39;00m\n\u001b[1;32m   3816\u001b[0m     \u001b[38;5;66;03m#  the TypeError.\u001b[39;00m\n\u001b[1;32m   3817\u001b[0m     \u001b[38;5;28mself\u001b[39m\u001b[38;5;241m.\u001b[39m_check_indexing_error(key)\n",
      "\u001b[0;31mKeyError\u001b[0m: ''"
     ]
    }
   ],
   "source": [
    "from datetime import date, datetime, timedelta\n",
    "from math import isnan\n",
    "\n",
    "from pandas import Series, Timedelta\n",
    "\n",
    "\n",
    "DEFAULT_AVATAR = (\n",
    "    \"https://avatars.steamstatic.com/fef49e7fa7e1997310d705b2a6158ff8dc1cdfeb.jpg\"\n",
    ")\n",
    "\n",
    "data[\"MisdemenourCount\"] = (\n",
    "    data[\"NumberOfVACBans\"]\n",
    "    + data[\"NumberOfGameBans\"]\n",
    "    + data[\"CommunityBanned\"].apply(lambda b: 1 if b else 0)\n",
    "    + data[\"EconomyBan\"].apply(lambda b: 1 if b else 0)\n",
    ")\n",
    "\n",
    "\n",
    "# Doesn't account for people who doesn't publicize the info\n",
    "data[\"ActiveAfterBan\"] = data[\"recentlyPlayed\"].apply(\n",
    "    lambda d: d.get(\"total_count\", 0) > 0\n",
    ") & (data[\"NumberOfVACBans\"] > 0)\n",
    "\n",
    "data[\"HasDefaultAvatar\"] = data[\"avatar\"] == DEFAULT_AVATAR\n",
    "data[\"WeWereBadButNowWereGood\"] = data[\"DaysSinceLastBan\"] > 365\n",
    "\n",
    "currentTimestamp = datetime.now()\n",
    "data[\"LastBanTime\"] = data[\"DaysSinceLastBan\"].apply(\n",
    "    lambda d: (currentTimestamp - timedelta(d)).timestamp() if d > 0 else None\n",
    ")\n",
    "\n",
    "data[\"averageTimeBetweenBans\"] = (\n",
    "    (data[\"LastBanTime\"] - data[\"timecreated\"])\n",
    "    / (data[\"NumberOfVACBans\"] + data[\"NumberOfGameBans\"])\n",
    ").apply(lambda d: None if isnan(d) else d)\n",
    "\n",
    "data[\"EstimatedFirstBan\"] = data[\"LastBanTime\"] - data[\"averageTimeBetweenBans\"] * (\n",
    "    (data[\"NumberOfVACBans\"] + data[\"NumberOfGameBans\"]) - 1\n",
    ")\n",
    "\n",
    "data[\"nextBanTime\"] = data[\"LastBanTime\"] + data[\"averageTimeBetweenBans\"]"
   ]
  }
 ],
 "metadata": {
  "kernelspec": {
   "display_name": ".venv",
   "language": "python",
   "name": "python3"
  },
  "language_info": {
   "codemirror_mode": {
    "name": "ipython",
    "version": 3
   },
   "file_extension": ".py",
   "mimetype": "text/x-python",
   "name": "python",
   "nbconvert_exporter": "python",
   "pygments_lexer": "ipython3",
   "version": "3.13.0"
  }
 },
 "nbformat": 4,
 "nbformat_minor": 2
}

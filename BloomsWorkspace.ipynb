{
 "cells": [
  {
   "cell_type": "code",
   "execution_count": 39,
   "metadata": {},
   "outputs": [],
   "source": [
    "import pickle\n",
    "from pandas import DataFrame\n",
    "\n",
    "\n",
    "try:\n",
    "    with open(\"data/bloomData.pkl\", \"rb\") as dataPickle:\n",
    "        fullData: DataFrame = pickle.load(dataPickle, fix_imports=True)\n",
    "except:\n",
    "    fullData = DataFrame()"
   ]
  },
  {
   "cell_type": "markdown",
   "metadata": {},
   "source": [
    "## Filter to important entries"
   ]
  },
  {
   "cell_type": "code",
   "execution_count": 40,
   "metadata": {},
   "outputs": [
    {
     "name": "stderr",
     "output_type": "stream",
     "text": [
      "/tmp/ipykernel_113432/1340769248.py:21: FutureWarning: Downcasting behavior in `replace` is deprecated and will be removed in a future version. To retain the old behavior, explicitly call `result.infer_objects(copy=False)`. To opt-in to the future behavior, set `pd.set_option('future.no_silent_downcasting', True)`\n",
      "  data.replace({\"EconomyBan\":{\"banned\": True, \"none\": False}}, inplace=True)\n",
      "/tmp/ipykernel_113432/1340769248.py:21: SettingWithCopyWarning: \n",
      "A value is trying to be set on a copy of a slice from a DataFrame.\n",
      "Try using .loc[row_indexer,col_indexer] = value instead\n",
      "\n",
      "See the caveats in the documentation: https://pandas.pydata.org/pandas-docs/stable/user_guide/indexing.html#returning-a-view-versus-a-copy\n",
      "  data.replace({\"EconomyBan\":{\"banned\": True, \"none\": False}}, inplace=True)\n"
     ]
    }
   ],
   "source": [
    "data = fullData[\n",
    "    [\n",
    "        \"communityvisibilitystate\",\n",
    "        \"personastate\",\n",
    "        \"timecreated\",\n",
    "        \"CommunityBanned\",\n",
    "        \"NumberOfVACBans\",\n",
    "        \"DaysSinceLastBan\",\n",
    "        \"NumberOfGameBans\",\n",
    "        \"EconomyBan\",\n",
    "        \"friendsList\",\n",
    "        \"ownedGames\",\n",
    "        \"groups\",\n",
    "        \"recentlyPlayed\",\n",
    "        \"commentpermission\",\n",
    "        \"loccountrycode\",\n",
    "        \"avatar\",\n",
    "    ]\n",
    "]\n",
    "\n",
    "data.replace({\"EconomyBan\":{\"banned\": True, \"none\": False}}, inplace=True)\n",
    "\n"
   ]
  },
  {
   "cell_type": "markdown",
   "metadata": {},
   "source": []
  },
  {
   "cell_type": "code",
   "execution_count": 41,
   "metadata": {},
   "outputs": [
    {
     "name": "stderr",
     "output_type": "stream",
     "text": [
      "/tmp/ipykernel_113432/2469785220.py:10: SettingWithCopyWarning: \n",
      "A value is trying to be set on a copy of a slice from a DataFrame.\n",
      "Try using .loc[row_indexer,col_indexer] = value instead\n",
      "\n",
      "See the caveats in the documentation: https://pandas.pydata.org/pandas-docs/stable/user_guide/indexing.html#returning-a-view-versus-a-copy\n",
      "  data[\"MisdemenourCount\"] = (\n",
      "/tmp/ipykernel_113432/2469785220.py:19: SettingWithCopyWarning: \n",
      "A value is trying to be set on a copy of a slice from a DataFrame.\n",
      "Try using .loc[row_indexer,col_indexer] = value instead\n",
      "\n",
      "See the caveats in the documentation: https://pandas.pydata.org/pandas-docs/stable/user_guide/indexing.html#returning-a-view-versus-a-copy\n",
      "  data[\"ActiveAfterBan\"] = data[\"recentlyPlayed\"].apply(\n",
      "/tmp/ipykernel_113432/2469785220.py:23: SettingWithCopyWarning: \n",
      "A value is trying to be set on a copy of a slice from a DataFrame.\n",
      "Try using .loc[row_indexer,col_indexer] = value instead\n",
      "\n",
      "See the caveats in the documentation: https://pandas.pydata.org/pandas-docs/stable/user_guide/indexing.html#returning-a-view-versus-a-copy\n",
      "  data[\"HasDefaultAvatar\"] = data[\"avatar\"] == DEFAULT_AVATAR\n",
      "/tmp/ipykernel_113432/2469785220.py:24: SettingWithCopyWarning: \n",
      "A value is trying to be set on a copy of a slice from a DataFrame.\n",
      "Try using .loc[row_indexer,col_indexer] = value instead\n",
      "\n",
      "See the caveats in the documentation: https://pandas.pydata.org/pandas-docs/stable/user_guide/indexing.html#returning-a-view-versus-a-copy\n",
      "  data[\"WeWereBadButNowWereGood\"] = data[\"DaysSinceLastBan\"] > 365\n",
      "/tmp/ipykernel_113432/2469785220.py:27: SettingWithCopyWarning: \n",
      "A value is trying to be set on a copy of a slice from a DataFrame.\n",
      "Try using .loc[row_indexer,col_indexer] = value instead\n",
      "\n",
      "See the caveats in the documentation: https://pandas.pydata.org/pandas-docs/stable/user_guide/indexing.html#returning-a-view-versus-a-copy\n",
      "  data[\"LastBanTime\"] = data[\"DaysSinceLastBan\"].apply(\n",
      "/tmp/ipykernel_113432/2469785220.py:30: SettingWithCopyWarning: \n",
      "A value is trying to be set on a copy of a slice from a DataFrame.\n",
      "Try using .loc[row_indexer,col_indexer] = value instead\n",
      "\n",
      "See the caveats in the documentation: https://pandas.pydata.org/pandas-docs/stable/user_guide/indexing.html#returning-a-view-versus-a-copy\n",
      "  data[\"EstimatedFirstBan\"] = (\n"
     ]
    }
   ],
   "source": [
    "from datetime import date, datetime, timedelta\n",
    "\n",
    "from pandas import Series, Timedelta\n",
    "\n",
    "\n",
    "DEFAULT_AVATAR = (\n",
    "    \"https://avatars.steamstatic.com/fef49e7fa7e1997310d705b2a6158ff8dc1cdfeb.jpg\"\n",
    ")\n",
    "\n",
    "data[\"MisdemenourCount\"] = (\n",
    "    data[\"NumberOfVACBans\"]\n",
    "    + data[\"NumberOfGameBans\"]\n",
    "    + data[\"CommunityBanned\"].apply(lambda b: 1 if b else 0)\n",
    "    + data[\"EconomyBan\"].apply(lambda b: 1 if b else 0)\n",
    ")\n",
    "\n",
    "\n",
    "# Doesn't account for people who doesn't publicize the info\n",
    "data[\"ActiveAfterBan\"] = data[\"recentlyPlayed\"].apply(\n",
    "    lambda d: d.get(\"total_count\", 0) > 0\n",
    ") & (data[\"NumberOfVACBans\"] > 0)\n",
    "\n",
    "data[\"HasDefaultAvatar\"] = data[\"avatar\"] == DEFAULT_AVATAR\n",
    "data[\"WeWereBadButNowWereGood\"] = data[\"DaysSinceLastBan\"] > 365\n",
    "\n",
    "currentTimestamp = datetime.now()\n",
    "data[\"LastBanTime\"] = data[\"DaysSinceLastBan\"].apply(\n",
    "    lambda d: (currentTimestamp - timedelta(d)).timestamp() if d > 0 else None\n",
    ")\n",
    "data[\"EstimatedFirstBan\"] = (\n",
    "    data[\"DaysSinceLastBan\"] * (data[\"NumberOfVACBans\"] + data[\"NumberOfGameBans\"])\n",
    ").apply(lambda d: (currentTimestamp - timedelta(d)).timestamp() if d > 0 else None)"
   ]
  }
 ],
 "metadata": {
  "kernelspec": {
   "display_name": ".venv",
   "language": "python",
   "name": "python3"
  },
  "language_info": {
   "codemirror_mode": {
    "name": "ipython",
    "version": 3
   },
   "file_extension": ".py",
   "mimetype": "text/x-python",
   "name": "python",
   "nbconvert_exporter": "python",
   "pygments_lexer": "ipython3",
   "version": "3.13.0"
  }
 },
 "nbformat": 4,
 "nbformat_minor": 2
}

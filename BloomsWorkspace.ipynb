{
 "cells": [
  {
   "cell_type": "code",
   "execution_count": 1,
   "metadata": {},
   "outputs": [],
   "source": [
    "import pickle\n",
    "from pandas import DataFrame\n",
    "import pandas\n",
    "from datetime import datetime, timedelta\n",
    "from math import isnan\n",
    "import random\n",
    "from math import nan\n",
    "from typing import Any\n",
    "import matplotlib.pyplot as plt\n",
    "import numpy as np\n",
    "\n",
    "Entry = dict[str, Any]\n",
    "\n",
    "pandas.options.mode.copy_on_write = True # Helps reduce redundant copying where possible\n",
    "pandas.set_option(\"future.no_silent_downcasting\", True) # Forward compatible warning\n",
    "\n",
    "# Load the dataset\n",
    "try:\n",
    "    with open(\"data/bloomData.pkl\", \"rb\") as dataPickle:\n",
    "        fullData: DataFrame = pickle.load(dataPickle, fix_imports=True)\n",
    "except:\n",
    "    fullData = DataFrame()"
   ]
  },
  {
   "cell_type": "markdown",
   "metadata": {},
   "source": [
    "Goals\n",
    "\n",
    "* [] Temporal Analysis of Cheating Spread\n",
    "* [] Predictive Modelling of Cheating Risk\n",
    "* [] Game ownership analysis\n",
    "* [] Playtime analysis"
   ]
  },
  {
   "cell_type": "markdown",
   "metadata": {},
   "source": [
    "## Synthesizing information from data"
   ]
  },
  {
   "cell_type": "markdown",
   "metadata": {},
   "source": [
    "First we filter out the data that isn't necessary in my usage."
   ]
  },
  {
   "cell_type": "code",
   "execution_count": 2,
   "metadata": {},
   "outputs": [],
   "source": [
    "# Replace EconomyBan to a boolean column\n",
    "fullData:DataFrame = fullData.replace({\"EconomyBan\": {\"banned\": True, \"none\": False}}).infer_objects(copy=False)\n",
    "\n",
    "data:DataFrame = fullData.loc[\n",
    "    :,\n",
    "    [\n",
    "        \"communityvisibilitystate\",\n",
    "        \"personastate\",\n",
    "        \"timecreated\",\n",
    "        \"CommunityBanned\",\n",
    "        \"NumberOfVACBans\",\n",
    "        \"DaysSinceLastBan\",\n",
    "        \"NumberOfGameBans\",\n",
    "        \"EconomyBan\",\n",
    "        \"friendsList\",\n",
    "        \"ownedGames\",\n",
    "        \"groups\",\n",
    "        \"recentlyPlayed\",\n",
    "        \"commentpermission\",\n",
    "        \"loccountrycode\",\n",
    "        \"avatar\",\n",
    "        \"gameid\"\n",
    "    ],\n",
    "]"
   ]
  },
  {
   "cell_type": "markdown",
   "metadata": {},
   "source": [
    "### Determine privacy states"
   ]
  },
  {
   "cell_type": "markdown",
   "metadata": {},
   "source": [
    "This may be useful for filtering purposes"
   ]
  },
  {
   "cell_type": "code",
   "execution_count": 3,
   "metadata": {},
   "outputs": [],
   "source": [
    "from collections import defaultdict\n",
    "\n",
    "\n",
    "friendsMapping = defaultdict[str, set[str]](lambda : set())"
   ]
  },
  {
   "cell_type": "code",
   "execution_count": 4,
   "metadata": {},
   "outputs": [],
   "source": [
    "data[\"isProfilePublic\"] = data[\"communityvisibilitystate\"] > 0\n",
    "\n",
    "# If game data is public, there will be a total_count field in recentlyPlayed dict\n",
    "# Otherwise the key will not exist\n",
    "data[\"isGameDataPublic\"] = data[\"recentlyPlayed\"].apply(lambda x: \"total_count\" in x)"
   ]
  },
  {
   "cell_type": "code",
   "execution_count": 5,
   "metadata": {},
   "outputs": [],
   "source": [
    "from typing import cast\n",
    "from pandas import Series\n",
    "\n",
    "\n",
    "friendshipData = data[\"friendsList\"]\n",
    "\n",
    "for i, e in data.iterrows():\n",
    "    i = cast(str, i)\n",
    "    friends= e[\"friendsList\"]\n",
    "    if(friends is None):\n",
    "        continue\n",
    "\n",
    "    for friend in friends:\n",
    "        otherID = friend[\"steamid\"]\n",
    "        friendsMapping[i].add(otherID)\n",
    "        friendsMapping[otherID].add(i)\n",
    "\n",
    "fmL  = {i : list(friendsMapping[cast(str,i)]) if i in friendsMapping else [] for i, _ in data.iterrows()}\n",
    "\n",
    "data[\"augmentedFriends\"] = Series(fmL)"
   ]
  },
  {
   "cell_type": "code",
   "execution_count": 6,
   "metadata": {},
   "outputs": [],
   "source": [
    "def determineFriendListPrivacy(x: Entry):\n",
    "    # We see the friendlist, it is public\n",
    "    if len(x[\"friendsList\"]) > 0:\n",
    "        return True\n",
    "    \n",
    "    # We see that other friends are friends with this user, despite the list being empty\n",
    "    # (Friendships are bidirectional on steam)\n",
    "    if len(x[\"augmentedFriends\"]) > 0:\n",
    "        return False\n",
    "    \n",
    "    # Assume the default visibility is public\n",
    "    # No discrepancies between actual friendlist and inferred friendslist\n",
    "    return True\n",
    "\n",
    "\n",
    "data[\"isFriendsListPublic\"] = data.apply(determineFriendListPrivacy, axis=1)"
   ]
  },
  {
   "cell_type": "markdown",
   "metadata": {},
   "source": [
    "### Main stuff"
   ]
  },
  {
   "cell_type": "markdown",
   "metadata": {},
   "source": [
    "We can summarize all bans into a single \"misdemeanor count\" column. This is based on the assumption that all ban types on Steam contributes to whether a player is likely to cheat in the future. This is similar to how Valve determines the [\"Trust Factor\"](https://help.steampowered.com/en/faqs/view/00EF-D679-C76A-C185) of a player, which they use to protect high trust players from potentially low trust players, improving match quality."
   ]
  },
  {
   "cell_type": "code",
   "execution_count": 7,
   "metadata": {},
   "outputs": [],
   "source": [
    "data[\"MisdemenourCount\"] = (\n",
    "    data[\"NumberOfVACBans\"]\n",
    "    + data[\"NumberOfGameBans\"]\n",
    "    + data[\"CommunityBanned\"].apply(lambda b: 1 if b else 0)\n",
    "    + data[\"EconomyBan\"].apply(lambda b: 1 if b else 0)\n",
    ")"
   ]
  },
  {
   "cell_type": "markdown",
   "metadata": {},
   "source": [
    "We then convert the relative timestamp of the players last ban time to an absolute timestamp. This allows us to avoid conversion through this process"
   ]
  },
  {
   "cell_type": "code",
   "execution_count": 8,
   "metadata": {},
   "outputs": [],
   "source": [
    "currentTimestamp = datetime.now()\n",
    "data[\"LastBanTime\"] = data.apply(\n",
    "    lambda x: (\n",
    "        (currentTimestamp - timedelta(x[\"DaysSinceLastBan\"])).timestamp()\n",
    "        if (x[\"NumberOfVACBans\"] + x[\"NumberOfGameBans\"])\n",
    "        else None\n",
    "    ),  # type:ignore\n",
    "    axis=1,\n",
    ")"
   ]
  },
  {
   "cell_type": "markdown",
   "metadata": {},
   "source": [
    "Unfortunately, we only have the timestamp for the latest ban given to a player. Due to privacy reasons we may not even have information of when a player created their Steam account, hindering our ability to synthesize ban times in the correct time range."
   ]
  },
  {
   "cell_type": "markdown",
   "metadata": {},
   "source": [
    "We want to provide a decent estimate of the exact ban instance of each cheater. We do have the total number of game bans, which includes both bans made by the Valve Anti-Cheat system (VAC), and manual bans given by other cheat detection methods such as third party cheat detectors or user review.\n",
    "\n",
    "We perform the following steps to synthesize the timestamps for each cheating instances for a given player\n",
    "\n",
    "* Iff we have information account creation time, that is set as the earliest possible ban time\n",
    "* Iff the player's account doesn't have data on the account creation time, then we estimate the earliest possible ban time by assuming ban intervals are distributed equally\n",
    "  * The earliest possible ban time is bounded to $[2023/09/12, \\inf]$, the earliest known time VAC 2.0 is in effect, which is when VAC bans became permanent.\n",
    "  * The creation time will also take into account known friendships, so that the earliest possible ban time is equal or earlier to the first known friendship\n",
    "\n",
    "$$\n",
    "\\begin{aligned}\n",
    "    \\mathrm{earliestPossibleBanTime} = \\mathrm{max}(&\\mathrm{min}(\\mathrm{lastBan} - \\mathrm{timeSinseLastBan} * \\mathrm{numBans}, \\mathrm{earliestFriendshipTime}),\\\\\n",
    "    & \\mathrm{VACLaunchDate})\n",
    "\\end{aligned}\n",
    "$$\n",
    "\n",
    "Knowing both the account creation time, and the latest ban time, we can then generate ban times for a user based on a uniform distribution. We also include the user creation times and the latest ban times at the start and the end of the list for use later.\n",
    "\n",
    "$$\n",
    "\\begin{aligned}\n",
    "    \\mathrm{times}_0 &= \\mathrm{earliestPossibleBanTime} \\\\\n",
    "    \\mathrm{times}_i &= X \\sim U_{[\\mathrm{earliestPossibleBanTime}, \\mathrm{lastBanTime}]} & \\forall i \\in \\{ 1, \\cdots, \\mathrm{numBans}-1\\} \\\\\n",
    "    \\mathrm{times}_{\\mathrm{numBans}} &= \\mathrm{lastBanTime}\n",
    "\\end{aligned}\n",
    "$$\n",
    "\n"
   ]
  },
  {
   "cell_type": "code",
   "execution_count": 9,
   "metadata": {},
   "outputs": [],
   "source": [
    "from math import inf\n",
    "\n",
    "\n",
    "EARLIESTPOSSIBLEBAN = datetime(2003, 9, 12).timestamp()\n",
    "\n",
    "\n",
    "def synthesizeEventTimes(x):\n",
    "    numBans: int = x[\"NumberOfVACBans\"] + x[\"NumberOfGameBans\"]\n",
    "\n",
    "    if numBans == 0:\n",
    "        return []\n",
    "\n",
    "    lastBan: float = x[\"LastBanTime\"]\n",
    "    timeCreated: float = x[\"timecreated\"]\n",
    "    earliestPossibleBanTime = timeCreated\n",
    "    \n",
    "    # timeCreated is not available\n",
    "    #\n",
    "    # Assumption made:\n",
    "    #   The criminals activity is spaced based on a uniform  distribution centred around the last ban time\n",
    "    if isnan(timeCreated):\n",
    "        friendshipTimes = [f[\"friends_since\"] for f in x[\"friendsList\"] if f[\"friends_since\"] != 0]\n",
    "\n",
    "        earliestFriendshipTime = min(friendshipTimes) if len(friendshipTimes) > 0 else inf\n",
    "\n",
    "        timeSinceLastBan = x[\"DaysSinceLastBan\"]\n",
    "        earliestPossibleBanTime = max(min(lastBan - timeSinceLastBan * numBans, earliestFriendshipTime), EARLIESTPOSSIBLEBAN)\n",
    "\n",
    "\n",
    "    banRange = lastBan - earliestPossibleBanTime\n",
    "    times = [lastBan - random.uniform(0, 1) * banRange for i in range(0, numBans)]\n",
    "\n",
    "    times.sort()\n",
    "    times.append(lastBan)\n",
    "\n",
    "    return times\n",
    "\n",
    "data[\"synthesizedTimes\"] = data.apply(synthesizeEventTimes, axis=1)"
   ]
  },
  {
   "cell_type": "markdown",
   "metadata": {},
   "source": [
    "One can notice that for cheaters, we actually generate one extra ban instance. This $0^{th}$ ban time will actually be used as one of three estimations for the account creation time of players who doesn't have any data on when their account was created"
   ]
  },
  {
   "cell_type": "code",
   "execution_count": 10,
   "metadata": {},
   "outputs": [],
   "source": [
    "# First time is the creation time\n",
    "# Any subsequent times are ban times\n",
    "data[\"synthesizedTimes\"] = data.apply(synthesizeEventTimes, axis=1)\n",
    "\n",
    "# Try to get the existience \n",
    "def getLatestTime(x : Entry):\n",
    "    latestBanTime = x[\"LastBanTime\"]\n",
    "    if not isnan(latestBanTime):\n",
    "        return latestBanTime\n",
    "    \n",
    "    timecreated = x[\"timecreated\"]\n",
    "\n",
    "    if(not isnan(timecreated)):\n",
    "        return timecreated\n",
    "    \n",
    "    return None\n",
    "\n",
    "\n",
    "earliestTime = data.loc[:, [\"timecreated\"]].dropna()\n",
    "latestTime = np.max(data.apply(getLatestTime, axis=1)) #type:ignore\n",
    "\n",
    "validTimeMax = np.max(latestTime)\n",
    "validTimeMin = np.min(earliestTime)\n",
    "validTimeRange = validTimeMax - validTimeMin\n",
    "\n",
    "def populateCreationTimes(x : Entry):\n",
    "    timecreated = x[\"timecreated\"]\n",
    "\n",
    "    # We already have the information we need\n",
    "    if(not isnan(timecreated)):\n",
    "        return timecreated\n",
    "    \n",
    "    synthesizedTimes = x[\"synthesizedTimes\"]\n",
    "\n",
    "    friendshipTimes = [f[\"friends_since\"] for f in x[\"friendsList\"] if f[\"friends_since\"] != 0]\n",
    "\n",
    "    # Take the earliest known friendship if available\n",
    "    earliestFriendshipTime = min(friendshipTimes) if len(friendshipTimes) > 0 else inf\n",
    "    # And the earliest guess of ban time if available\n",
    "    earliestBanTime = inf if len(synthesizedTimes) == 0 else synthesizedTimes[0]\n",
    "    # And a guess based around a population based on a uniform distribution\n",
    "    uniformDistGuess = validTimeMin + validTimeRange * random.random()\n",
    "\n",
    "    # And take the minimum between all three\n",
    "    timecreatedGuess = min([uniformDistGuess, earliestBanTime, earliestFriendshipTime])\n",
    "\n",
    "    \n",
    "    return timecreatedGuess\n",
    "\n",
    "data[\"timecreated\"] = data.apply(\n",
    "    populateCreationTimes, # type:ignore\n",
    "    axis=1,\n",
    ")\n",
    "\n",
    "data[\"EstimatedBanTimes\"] = data.apply(\n",
    "    lambda x: x[\"synthesizedTimes\"][1:] if len(x[\"synthesizedTimes\"]) > 0 else [],\n",
    "    axis=1,\n",
    ")\n",
    "\n",
    "# Remove synthesizedTimes column\n",
    "data.drop(\"synthesizedTimes\", axis = 1, inplace=True)"
   ]
  },
  {
   "cell_type": "markdown",
   "metadata": {},
   "source": [
    "## Temporal analysis of cheating spread"
   ]
  },
  {
   "cell_type": "code",
   "execution_count": 11,
   "metadata": {},
   "outputs": [
    {
     "data": {
      "image/png": "[encoded data removed]",
      "text/plain": [
       "<Figure size 640x480 with 1 Axes>"
      ]
     },
     "metadata": {},
     "output_type": "display_data"
    }
   ],
   "source": [
    "cheatingIncidents = []\n",
    "\n",
    "uniqueCheaters = set()\n",
    "numUniqueCheaters = []\n",
    "numPlayers = []\n",
    "\n",
    "count = 0\n",
    "\n",
    "for i, e in data.sort_values(\"timecreated\").iterrows(): \n",
    "    count+=1\n",
    "    steamId = i\n",
    "    banTimes  = e[\"EstimatedBanTimes\"]\n",
    "\n",
    "    for t in banTimes:\n",
    "        cheatingIncidents.append((t, i))\n",
    "        numPlayers.append(count)\n",
    "\n",
    "    if(len(banTimes) == 0):\n",
    "        continue\n",
    "\n",
    "cheatingIncidents.sort(key = lambda x : x[0])\n",
    "\n",
    "cheatingTimes = []\n",
    "cheatingCount = [i+1 for i in range(len(cheatingIncidents))]\n",
    "for t in cheatingIncidents:\n",
    "    cheatingTimes.append(datetime.fromtimestamp(t[0]))\n",
    "    uniqueCheaters.add(t[1])\n",
    "    numUniqueCheaters.append(len(uniqueCheaters))\n",
    "\n",
    "plt.hist(cheatingTimes, log=True, bins=\"auto\")\n",
    "plt.xlabel(\"Time\")\n",
    "plt.ylabel(\"Count\")\n",
    "plt.plot(cheatingTimes,numUniqueCheaters)\n",
    "plt.plot(cheatingTimes,numPlayers)\n",
    "plt.plot(cheatingTimes,cheatingCount)\n",
    "plt.legend([\"Total number of unique cheaters\", \"Total number of players on steam\", \"Total number of cheating incidents\", \"Cheating incidents in time period\"])\n",
    "plt.show()"
   ]
  },
  {
   "cell_type": "markdown",
   "metadata": {},
   "source": [
    "By plotting the number of cheating incidents, the number of unique cheaters, and the total number of players on Steam. We can observe that as time passes, the number of users increases significantly. The number of unique cheaters increase in a significantly lower rate.\n",
    "\n",
    "The total number of cheating incidents grows in the same fashion as the number of unique cheaters. Suggesting the most caught cheaters never cheat again (or at least get caught doing so), or they abandon their Steam account."
   ]
  },
  {
   "cell_type": "markdown",
   "metadata": {},
   "source": [
    "We can approximate the amount of cheaters that remain active on Steam using the same account by determining whether they have any activity on Steam post ban.\n",
    "\n",
    "We are able to assert that a player is still active after a ban if any one of the following points are true\n",
    "* Player status is not offline or invisible\n",
    "* Player has more than one bans\n",
    "  * This implies that even after the first ban, the user remained active enough to obtain another ban\n",
    "* Player is found to be actively playing a game, or participating in a game server tracked by steam\n",
    "* Player has recorded playtime in the two weeks prior to data collection\n",
    "\n",
    "There are some deficiencies with this method, such as the fact that we do not have complete data of a particular user due to their chosen privacy settings, which hides information that is considered private to external users. In these cases, we assume the account is abandoned if none of the above points hold true."
   ]
  },
  {
   "cell_type": "code",
   "execution_count": 12,
   "metadata": {},
   "outputs": [
    {
     "data": {
      "image/png": "[encoded data removed]",
      "text/plain": [
       "<Figure size 500x400 with 1 Axes>"
      ]
     },
     "metadata": {},
     "output_type": "display_data"
    },
    {
     "data": {
      "image/png": "[encoded data removed]",
      "text/plain": [
       "<Figure size 500x400 with 1 Axes>"
      ]
     },
     "metadata": {},
     "output_type": "display_data"
    }
   ],
   "source": [
    "from pandas import isnull\n",
    "\n",
    "\n",
    "cheaters = data.loc[(data[\"NumberOfVACBans\"] + data[\"NumberOfGameBans\"]) > 0, :]\n",
    "innocents = data.loc[(data[\"NumberOfVACBans\"] + data[\"NumberOfGameBans\"]) == 0, :]\n",
    "\n",
    "\n",
    "def isActive(x: Entry):\n",
    "    if(x[\"personastate\"] > 0):\n",
    "        return True\n",
    "\n",
    "    if x[\"NumberOfVACBans\"] + x[\"NumberOfGameBans\"] > 1:\n",
    "        return True\n",
    "\n",
    "    if not pandas.isnull(x[\"gameid\"]) :\n",
    "        return True\n",
    "\n",
    "    recentlyPlayed: dict[str, Any] = x[\"recentlyPlayed\"]\n",
    "\n",
    "    activity =  recentlyPlayed.get(\"total_count\", 0) > 0\n",
    "\n",
    "    \n",
    "    return activity\n",
    "\n",
    "\n",
    "numberOfCheaters = len(cheaters)\n",
    "numberOfInnocents = len(data) - numberOfCheaters\n",
    "\n",
    "activeCheaters= cheaters.apply(isActive, axis=1)\n",
    "activeInnocents = innocents.apply(isActive, axis=1)\n",
    "\n",
    "numberOfActiveCheaters : int = activeCheaters.values.sum() # type:ignore\n",
    "numberOfInactiveCheaters : int = numberOfCheaters - numberOfActiveCheaters\n",
    "\n",
    "numberOfActiveInnocents = activeInnocents.values.sum() #type:ignore\n",
    "numberOfInactiveInnocents = numberOfInnocents - numberOfActiveInnocents\n",
    "\n",
    "plt.figure(figsize=(5,4))\n",
    "plt.pie([numberOfActiveCheaters, numberOfInactiveCheaters], labels=[\"Still active\", \"Abandoned\"], autopct=\"%.2f%%\", pctdistance=1.3)\n",
    "plt.title(\"Approximate number of cheaters who remain active after ban\")\n",
    "plt.show()\n",
    "\n",
    "plt.figure(figsize=(5,4))\n",
    "plt.pie([numberOfActiveInnocents, numberOfInactiveInnocents], labels=[\"Still active\", \"Abandoned\"], autopct=\"%.2f%%\", pctdistance=1.3)\n",
    "plt.title(\"Approximate number of cheaters who remain active after ban\")\n",
    "plt.show()"
   ]
  },
  {
   "cell_type": "markdown",
   "metadata": {},
   "source": [
    "## Playtime analysis"
   ]
  },
  {
   "cell_type": "markdown",
   "metadata": {},
   "source": [
    "We also attempted to analyze the playtime of cheaters, to determine whether a cheater's playing habits differ significantly from a non-cheater. \n",
    "\n",
    "In order to do"
   ]
  },
  {
   "cell_type": "code",
   "execution_count": 13,
   "metadata": {},
   "outputs": [
    {
     "name": "stdout",
     "output_type": "stream",
     "text": [
      "73\n"
     ]
    },
    {
     "data": {
      "image/png": "[encoded data removed]",
      "text/plain": [
       "<Figure size 640x480 with 1 Axes>"
      ]
     },
     "metadata": {},
     "output_type": "display_data"
    },
    {
     "name": "stdout",
     "output_type": "stream",
     "text": [
      "283\n"
     ]
    },
    {
     "data": {
      "image/png": "[encoded data removed]",
      "text/plain": [
       "<Figure size 640x480 with 1 Axes>"
      ]
     },
     "metadata": {},
     "output_type": "display_data"
    }
   ],
   "source": [
    "from statistics import stdev\n",
    "\n",
    "from matplotlib.ticker import PercentFormatter\n",
    "\n",
    "\n",
    "def extractTotalPlaytime(x: list[Entry] | None):\n",
    "    if x is None:\n",
    "        return 0\n",
    "\n",
    "    sum = 0\n",
    "\n",
    "    for g in x:\n",
    "        sum += g.get(\"playtime_forever\", 0)\n",
    "\n",
    "    return sum\n",
    "\n",
    "\n",
    "def extractTotalPlaytime2w(x: list[Entry] | None):\n",
    "    if x is None:\n",
    "        return 0\n",
    "\n",
    "    sum = 0\n",
    "\n",
    "    for g in x:\n",
    "        sum += g.get(\"playtime_2weeks\", 0)\n",
    "\n",
    "    return sum\n",
    "\n",
    "\n",
    "def extractTotalGames(x: list[Entry] | None):\n",
    "    if x is None:\n",
    "        return 0\n",
    "\n",
    "    return len(x)\n",
    "\n",
    "def plotPlaytime(data : DataFrame, title :str):\n",
    "    playtime = data.loc[data[\"totalPlaytime\"] > 0, \"totalPlaytime\"]\n",
    "\n",
    "    ranges = np.quantile(playtime, [0.25, 0.5, 0.75])\n",
    "    iqr = ranges[2] - ranges[0]\n",
    "    lowerFence = ranges[0] - 3 * iqr\n",
    "    upperFence = ranges[2] + 3 * iqr\n",
    "\n",
    "    candidates = playtime[\n",
    "        (playtime > lowerFence) & (playtime < upperFence)\n",
    "    ]\n",
    "\n",
    "    print(len(playtime) - len(candidates))\n",
    "\n",
    "    plt.hist(candidates.apply(lambda x: x / 60 ), edgecolor='black', bins=50, density=True)\n",
    "    plt.xlabel(\"Total playtime (hours)\")\n",
    "    plt.ylabel(\"Players ratio\")\n",
    "    plt.title(title)\n",
    "    plt.show()\n",
    "\n",
    "\n",
    "data[\"totalPlaytime\"] = data[\"ownedGames\"].apply(extractTotalPlaytime)\n",
    "data[\"recentPlaytime\"] = data[\"ownedGames\"].apply(extractTotalPlaytime2w)\n",
    "data[\"numGames\"] = data[\"ownedGames\"].apply(extractTotalGames)\n",
    "\n",
    "cheaters = data.loc[\n",
    "    (data[\"NumberOfVACBans\"] + data[\"NumberOfGameBans\"]) > 0,\n",
    "    [\"totalPlaytime\", \"recentPlaytime\", \"numGames\"],\n",
    "]\n",
    "innocents = data.loc[\n",
    "    (data[\"NumberOfVACBans\"] + data[\"NumberOfGameBans\"]) == 0,\n",
    "    [\"totalPlaytime\", \"recentPlaytime\", \"numGames\"],\n",
    "]\n",
    "\n",
    "plotPlaytime(cheaters, \"Playtime of cheaters\")\n",
    "plotPlaytime(innocents, \"Playtime of non-cheaters\")"
   ]
  },
  {
   "cell_type": "markdown",
   "metadata": {},
   "source": [
    "## model cheating risk"
   ]
  },
  {
   "cell_type": "markdown",
   "metadata": {},
   "source": [
    "### Some preprocessing"
   ]
  },
  {
   "cell_type": "code",
   "execution_count": 14,
   "metadata": {},
   "outputs": [],
   "source": [
    "data[\"HasDefaultAvatar\"] = data[\"avatar\"] == \"https://avatars.steamstatic.com/fef49e7fa7e1997310d705b2a6158ff8dc1cdfeb.jpg\"\n",
    "data.drop(\"avatar\", inplace=True, axis=1)"
   ]
  },
  {
   "cell_type": "code",
   "execution_count": 62,
   "metadata": {},
   "outputs": [],
   "source": [
    "from sklearn import tree\n",
    "from sklearn.metrics import accuracy_score\n",
    "from sklearn.preprocessing import LabelEncoder\n",
    "from sklearn.model_selection import train_test_split\n",
    "\n",
    "data[\"NumFriends\"] = data[\"augmentedFriends\"].apply(lambda x: len(x))\n",
    "\n",
    "countryLabels = LabelEncoder()\n",
    "countryLabels.fit(data[\"loccountrycode\"])\n",
    "data[\"countryLabel\"] = countryLabels.transform(data[\"loccountrycode\"])\n",
    "\n",
    "gameID = LabelEncoder()\n",
    "gameID.fit(data[\"gameid\"])\n",
    "data[\"gameCode\"] = gameID.transform(data[\"gameid\"])\n",
    "\n",
    "data[\"isCheater\"] =  (data[\"NumberOfVACBans\"] + data[\"NumberOfGameBans\"]) > 0\n",
    "\n",
    "def countCheatingFriends(friends : list[Entry]):\n",
    "    num = 0 \n",
    "    for friend in friends:\n",
    "        if(friend not in data.index):\n",
    "            continue\n",
    "\n",
    "        if(data.loc[friend, \"isCheater\"]):\n",
    "            num +=1\n",
    "\n",
    "    return num\n",
    "data[\"NumCheatingFriends\"] = data[\"augmentedFriends\"].apply(countCheatingFriends)\n",
    "\n",
    "X = data.drop(\n",
    "    [\n",
    "        \"LastBanTime\",\n",
    "        \"MisdemenourCount\",\n",
    "        \"EstimatedBanTimes\",\n",
    "        \"NumberOfGameBans\",\n",
    "        \"NumberOfVACBans\",\n",
    "        \"DaysSinceLastBan\",\n",
    "        \"augmentedFriends\",\n",
    "        \"friendsList\",\n",
    "        \"groups\",\n",
    "        \"ownedGames\",\n",
    "        \"recentlyPlayed\",\n",
    "        \"gameid\",\n",
    "        \"loccountrycode\",\n",
    "        \"isCheater\"\n",
    "    ],\n",
    "    axis=1,\n",
    ")\n",
    "\n",
    "X = X.fillna(-1)\n",
    "\n",
    "Y = data[\"isCheater\"]\n"
   ]
  },
  {
   "cell_type": "markdown",
   "metadata": {},
   "source": [
    "### Helper function\n"
   ]
  },
  {
   "cell_type": "code",
   "execution_count": 126,
   "metadata": {},
   "outputs": [],
   "source": [
    "\n",
    "from sklearn.metrics import auc, average_precision_score, f1_score, roc_auc_score\n",
    "\n",
    "def trainAndTest(classifier, X_train, X_test, y_train, y_test):\n",
    "    classifier.fit(X_train, y_train)\n",
    "\n",
    "    y_pred = classifier.predict(X_test)\n",
    "\n",
    "    accuracy = accuracy_score(y_test, y_pred)\n",
    "    f1 = f1_score(y_test, y_pred)\n",
    "    precision = average_precision_score(y_test, y_pred)\n",
    "    roc_auc = roc_auc_score(y_test, y_pred)\n",
    "\n",
    "    print(f'Accuracy: {accuracy}')\n",
    "    print(f'F1 score: {f1}')\n",
    "    print(f'Precision: {precision}')\n",
    "    print(f'ROC AUC: {roc_auc}')"
   ]
  },
  {
   "cell_type": "code",
   "execution_count": 108,
   "metadata": {},
   "outputs": [],
   "source": [
    "X_train, X_test, y_train, y_test = train_test_split(X, Y, test_size=0.1)"
   ]
  },
  {
   "cell_type": "markdown",
   "metadata": {},
   "source": [
    "### Classifiers"
   ]
  },
  {
   "cell_type": "markdown",
   "metadata": {},
   "source": [
    "#### Using a decision tree classifier"
   ]
  },
  {
   "cell_type": "code",
   "execution_count": 109,
   "metadata": {},
   "outputs": [
    {
     "name": "stdout",
     "output_type": "stream",
     "text": [
      "Accuracy: 0.7653958944281525\n",
      "F1 score: 0.2546583850931677\n",
      "Precision: 0.17543314979950925\n",
      "ROC AUC: 0.5600443859937531\n"
     ]
    }
   ],
   "source": [
    "trainAndTest(tree.DecisionTreeClassifier(random_state=69), X_train, X_test, y_train, y_test)"
   ]
  },
  {
   "cell_type": "markdown",
   "metadata": {},
   "source": [
    "#### Using Adaboost"
   ]
  },
  {
   "cell_type": "code",
   "execution_count": 142,
   "metadata": {},
   "outputs": [
    {
     "name": "stderr",
     "output_type": "stream",
     "text": [
      "/home/derrick/Source/steam_cheater_network_analysis/.venv/lib64/python3.13/site-packages/sklearn/ensemble/_weight_boosting.py:527: FutureWarning: The SAMME.R algorithm (the default) is deprecated and will be removed in 1.6. Use the SAMME algorithm to circumvent this warning.\n",
      "  warnings.warn(\n"
     ]
    },
    {
     "name": "stdout",
     "output_type": "stream",
     "text": [
      "Accuracy: 0.8514173998044966\n",
      "F1 score: 0.020257826887661142\n",
      "Precision: 0.15622603103043645\n",
      "ROC AUC: 0.5048842511453244\n"
     ]
    }
   ],
   "source": [
    "from sklearn.ensemble import AdaBoostClassifier\n",
    "\n",
    "trainAndTest(AdaBoostClassifier(random_state=69), X_train, X_test, y_train, y_test)"
   ]
  },
  {
   "cell_type": "markdown",
   "metadata": {},
   "source": [
    "#### Using random forest"
   ]
  },
  {
   "cell_type": "code",
   "execution_count": 143,
   "metadata": {},
   "outputs": [
    {
     "name": "stdout",
     "output_type": "stream",
     "text": [
      "Accuracy: 0.8374528697109342\n",
      "F1 score: 0.1927877947295423\n",
      "Precision: 0.1790007438689432\n",
      "ROC AUC: 0.5458634575929681\n"
     ]
    }
   ],
   "source": [
    "from sklearn.ensemble import RandomForestClassifier\n",
    "\n",
    "\n",
    "trainAndTest(RandomForestClassifier(random_state=69), X_train, X_test, y_train, y_test)"
   ]
  },
  {
   "cell_type": "markdown",
   "metadata": {},
   "source": [
    "#### Logistic regression"
   ]
  },
  {
   "cell_type": "code",
   "execution_count": 144,
   "metadata": {},
   "outputs": [
    {
     "name": "stdout",
     "output_type": "stream",
     "text": [
      "Accuracy: 0.8503002373970115\n",
      "F1 score: 0.0\n",
      "Precision: 0.14969976260298842\n",
      "ROC AUC: 0.5\n"
     ]
    }
   ],
   "source": [
    "from sklearn.linear_model import LogisticRegression\n",
    "\n",
    "\n",
    "trainAndTest(LogisticRegression(\"l2\"), X_train, X_test, y_train, y_test)"
   ]
  },
  {
   "cell_type": "code",
   "execution_count": 145,
   "metadata": {},
   "outputs": [
    {
     "name": "stdout",
     "output_type": "stream",
     "text": [
      "Accuracy: 0.8503002373970115\n",
      "F1 score: 0.0\n",
      "Precision: 0.14969976260298842\n",
      "ROC AUC: 0.5\n"
     ]
    }
   ],
   "source": [
    "from sklearn.svm import SVC\n",
    "\n",
    "\n",
    "trainAndTest(SVC(), X_train, X_test, y_train, y_test)"
   ]
  },
  {
   "cell_type": "markdown",
   "metadata": {},
   "source": [
    "### Regression"
   ]
  },
  {
   "cell_type": "code",
   "execution_count": 146,
   "metadata": {},
   "outputs": [],
   "source": [
    "\n",
    "from sklearn.metrics import auc, average_precision_score, f1_score, roc_auc_score\n",
    "\n",
    "def trainAndTestR(classifier, X_train, X_test, y_train, y_test):\n",
    "    classifier.fit(X_train, y_train)\n",
    "\n",
    "    y_pred = classifier.predict(X_test)\n",
    "\n",
    "    print(y_pred)\n",
    "    return y_pred"
   ]
  },
  {
   "cell_type": "code",
   "execution_count": 147,
   "metadata": {},
   "outputs": [],
   "source": [
    "Yp  = Y.apply(lambda x: 1.0 if x else 0.0).infer_objects(copy=False)\n",
    "X_train, X_test, y_train, y_test = train_test_split(X, Yp, test_size=0.1)"
   ]
  },
  {
   "cell_type": "markdown",
   "metadata": {},
   "source": [
    "#### Linear regression"
   ]
  },
  {
   "cell_type": "code",
   "execution_count": 148,
   "metadata": {},
   "outputs": [
    {
     "name": "stdout",
     "output_type": "stream",
     "text": [
      "[0.16557664 0.00024868 0.18608305 ... 0.12210005 0.24007561 0.17484169]\n",
      "[0.16557664 0.00024868 0.18608305 ... 0.12210005 0.24007561 0.17484169]\n"
     ]
    }
   ],
   "source": [
    "from sklearn.linear_model import LinearRegression\n",
    "\n",
    "\n",
    "p = trainAndTestR(LinearRegression(), X_train, X_test, y_train, y_test)\n",
    "\n",
    "print(p)"
   ]
  },
  {
   "cell_type": "markdown",
   "metadata": {},
   "source": [
    "###"
   ]
  },
  {
   "cell_type": "markdown",
   "metadata": {},
   "source": [
    "#### Lasso"
   ]
  },
  {
   "cell_type": "code",
   "execution_count": 149,
   "metadata": {},
   "outputs": [
    {
     "name": "stdout",
     "output_type": "stream",
     "text": [
      "[0.14639118 0.11773156 0.14582609 ... 0.14689593 0.147696   0.13635336]\n"
     ]
    }
   ],
   "source": [
    "from sklearn.linear_model import Lasso\n",
    "\n",
    "\n",
    "p = trainAndTestR(Lasso(), X_train, X_test, y_train, y_test)\n"
   ]
  },
  {
   "cell_type": "markdown",
   "metadata": {},
   "source": [
    "### SVR"
   ]
  },
  {
   "cell_type": "code",
   "execution_count": 150,
   "metadata": {},
   "outputs": [
    {
     "name": "stdout",
     "output_type": "stream",
     "text": [
      "Accuracy: 0.8511381092026253\n",
      "F1 score: 0.0\n",
      "Precision: 0.14886189079737466\n",
      "ROC AUC: 0.5\n"
     ]
    },
    {
     "name": "stderr",
     "output_type": "stream",
     "text": [
      "/home/derrick/Source/steam_cheater_network_analysis/.venv/lib64/python3.13/site-packages/sklearn/svm/_base.py:1235: ConvergenceWarning: Liblinear failed to converge, increase the number of iterations.\n",
      "  warnings.warn(\n"
     ]
    }
   ],
   "source": [
    "from sklearn.linear_model import Lasso\n",
    "from sklearn.svm import LinearSVR\n",
    "\n",
    "\n",
    "p = trainAndTest(LinearSVR(), X_train, X_test, y_train, y_test)\n"
   ]
  }
 ],
 "metadata": {
  "kernelspec": {
   "display_name": ".venv",
   "language": "python",
   "name": "python3"
  },
  "language_info": {
   "codemirror_mode": {
    "name": "ipython",
    "version": 3
   },
   "file_extension": ".py",
   "mimetype": "text/x-python",
   "name": "python",
   "nbconvert_exporter": "python",
   "pygments_lexer": "ipython3",
   "version": "3.13.0"
  }
 },
 "nbformat": 4,
 "nbformat_minor": 2
}

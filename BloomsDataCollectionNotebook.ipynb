{
 "cells": [
  {
   "cell_type": "markdown",
   "metadata": {},
   "source": [
    "## Load the artur steam dataset"
   ]
  },
  {
   "cell_type": "markdown",
   "metadata": {},
   "source": [
    "This can be skipped if you want to expand the existing bloom dataset without the old userids."
   ]
  },
  {
   "cell_type": "code",
   "execution_count": 1,
   "metadata": {},
   "outputs": [],
   "source": [
    "from pandas import DataFrame\n",
    "import pickle\n",
    "\n",
    "\n",
    "with open(\"data/full_user_data.pkl\", \"rb\") as dataPickle:\n",
    "    data: DataFrame = pickle.load(dataPickle, fix_imports=True)"
   ]
  },
  {
   "cell_type": "markdown",
   "metadata": {},
   "source": [
    "## Augmenting the dataset\n",
    "\n",
    "This block makes it simple to collect additional data without the need for constant supervision. Re-run as many times as needed to collect a ridiculous amount of data."
   ]
  },
  {
   "cell_type": "markdown",
   "metadata": {},
   "source": [
    "First the augmented dataset is loaded if possible"
   ]
  },
  {
   "cell_type": "code",
   "execution_count": 2,
   "metadata": {},
   "outputs": [],
   "source": [
    "from collections import deque\n",
    "\n",
    "apiKey = \"5C9F6A3AB40F423F4BF70D5C055749FA\"\n",
    "\n",
    "try:\n",
    "    with open(\"data/bloomData.pkl\", \"rb\") as dataPickle:\n",
    "        data2: DataFrame = pickle.load(dataPickle, fix_imports=True)\n",
    "except:\n",
    "    data2 = DataFrame()\n"
   ]
  },
  {
   "cell_type": "markdown",
   "metadata": {},
   "source": [
    "All users from Artur's dataset not yet in the augmented dataset is added to a processing queue. And each user's friend is added to the queue if it is not processed yet"
   ]
  },
  {
   "cell_type": "code",
   "execution_count": 3,
   "metadata": {},
   "outputs": [],
   "source": [
    "processedIDs = set[str]([id for id in data2.index])\n",
    "\n",
    "unprocessedFriends \\\n",
    "    = set([i for i in data.index if i not in processedIDs]) |\\\n",
    "    set[str]([f[\"steamid\"] for list in data2[\"friendsList\"] for f in list if f[\"steamid\"] not in processedIDs])\n",
    "\n",
    "processingQueue = deque[str](unprocessedFriends)\n",
    "\n",
    "bloomsteamID = \"76561198126594781\" # Submit myself into the dataset because it might be interesting\n",
    "if(bloomsteamID not in processingQueue):\n",
    "    processingQueue.appendleft(bloomsteamID)\n",
    "\n",
    "batchesDone = 0\n"
   ]
  },
  {
   "cell_type": "markdown",
   "metadata": {},
   "source": [
    "We query the steam web api to collect the data and append them into the bloom dataset."
   ]
  },
  {
   "cell_type": "code",
   "execution_count": 4,
   "metadata": {},
   "outputs": [
    {
     "name": "stdout",
     "output_type": "stream",
     "text": [
      "ID 76561197991670176 somehow not in fetched summaries... skipping\n",
      "ID 76561198950503479 somehow not in fetched summaries... skipping\n"
     ]
    },
    {
     "ename": "JSONDecodeError",
     "evalue": "Expecting value: line 1 column 1 (char 0)",
     "output_type": "error",
     "traceback": [
      "\u001b[0;31m---------------------------------------------------------------------------\u001b[0m",
      "\u001b[0;31mJSONDecodeError\u001b[0m                           Traceback (most recent call last)",
      "File \u001b[0;32m/usr/lib/python3.13/site-packages/requests/models.py:974\u001b[0m, in \u001b[0;36mResponse.json\u001b[0;34m(self, **kwargs)\u001b[0m\n\u001b[1;32m    973\u001b[0m \u001b[38;5;28;01mtry\u001b[39;00m:\n\u001b[0;32m--> 974\u001b[0m     \u001b[38;5;28;01mreturn\u001b[39;00m \u001b[43mcomplexjson\u001b[49m\u001b[38;5;241;43m.\u001b[39;49m\u001b[43mloads\u001b[49m\u001b[43m(\u001b[49m\u001b[38;5;28;43mself\u001b[39;49m\u001b[38;5;241;43m.\u001b[39;49m\u001b[43mtext\u001b[49m\u001b[43m,\u001b[49m\u001b[43m \u001b[49m\u001b[38;5;241;43m*\u001b[39;49m\u001b[38;5;241;43m*\u001b[39;49m\u001b[43mkwargs\u001b[49m\u001b[43m)\u001b[49m\n\u001b[1;32m    975\u001b[0m \u001b[38;5;28;01mexcept\u001b[39;00m JSONDecodeError \u001b[38;5;28;01mas\u001b[39;00m e:\n\u001b[1;32m    976\u001b[0m     \u001b[38;5;66;03m# Catch JSON-related errors and raise as requests.JSONDecodeError\u001b[39;00m\n\u001b[1;32m    977\u001b[0m     \u001b[38;5;66;03m# This aliases json.JSONDecodeError and simplejson.JSONDecodeError\u001b[39;00m\n",
      "File \u001b[0;32m/usr/lib64/python3.13/json/__init__.py:346\u001b[0m, in \u001b[0;36mloads\u001b[0;34m(s, cls, object_hook, parse_float, parse_int, parse_constant, object_pairs_hook, **kw)\u001b[0m\n\u001b[1;32m    343\u001b[0m \u001b[38;5;28;01mif\u001b[39;00m (\u001b[38;5;28mcls\u001b[39m \u001b[38;5;129;01mis\u001b[39;00m \u001b[38;5;28;01mNone\u001b[39;00m \u001b[38;5;129;01mand\u001b[39;00m object_hook \u001b[38;5;129;01mis\u001b[39;00m \u001b[38;5;28;01mNone\u001b[39;00m \u001b[38;5;129;01mand\u001b[39;00m\n\u001b[1;32m    344\u001b[0m         parse_int \u001b[38;5;129;01mis\u001b[39;00m \u001b[38;5;28;01mNone\u001b[39;00m \u001b[38;5;129;01mand\u001b[39;00m parse_float \u001b[38;5;129;01mis\u001b[39;00m \u001b[38;5;28;01mNone\u001b[39;00m \u001b[38;5;129;01mand\u001b[39;00m\n\u001b[1;32m    345\u001b[0m         parse_constant \u001b[38;5;129;01mis\u001b[39;00m \u001b[38;5;28;01mNone\u001b[39;00m \u001b[38;5;129;01mand\u001b[39;00m object_pairs_hook \u001b[38;5;129;01mis\u001b[39;00m \u001b[38;5;28;01mNone\u001b[39;00m \u001b[38;5;129;01mand\u001b[39;00m \u001b[38;5;129;01mnot\u001b[39;00m kw):\n\u001b[0;32m--> 346\u001b[0m     \u001b[38;5;28;01mreturn\u001b[39;00m \u001b[43m_default_decoder\u001b[49m\u001b[38;5;241;43m.\u001b[39;49m\u001b[43mdecode\u001b[49m\u001b[43m(\u001b[49m\u001b[43ms\u001b[49m\u001b[43m)\u001b[49m\n\u001b[1;32m    347\u001b[0m \u001b[38;5;28;01mif\u001b[39;00m \u001b[38;5;28mcls\u001b[39m \u001b[38;5;129;01mis\u001b[39;00m \u001b[38;5;28;01mNone\u001b[39;00m:\n",
      "File \u001b[0;32m/usr/lib64/python3.13/json/decoder.py:344\u001b[0m, in \u001b[0;36mJSONDecoder.decode\u001b[0;34m(self, s, _w)\u001b[0m\n\u001b[1;32m    340\u001b[0m \u001b[38;5;250m\u001b[39m\u001b[38;5;124;03m\"\"\"Return the Python representation of ``s`` (a ``str`` instance\u001b[39;00m\n\u001b[1;32m    341\u001b[0m \u001b[38;5;124;03mcontaining a JSON document).\u001b[39;00m\n\u001b[1;32m    342\u001b[0m \n\u001b[1;32m    343\u001b[0m \u001b[38;5;124;03m\"\"\"\u001b[39;00m\n\u001b[0;32m--> 344\u001b[0m obj, end \u001b[38;5;241m=\u001b[39m \u001b[38;5;28;43mself\u001b[39;49m\u001b[38;5;241;43m.\u001b[39;49m\u001b[43mraw_decode\u001b[49m\u001b[43m(\u001b[49m\u001b[43ms\u001b[49m\u001b[43m,\u001b[49m\u001b[43m \u001b[49m\u001b[43midx\u001b[49m\u001b[38;5;241;43m=\u001b[39;49m\u001b[43m_w\u001b[49m\u001b[43m(\u001b[49m\u001b[43ms\u001b[49m\u001b[43m,\u001b[49m\u001b[43m \u001b[49m\u001b[38;5;241;43m0\u001b[39;49m\u001b[43m)\u001b[49m\u001b[38;5;241;43m.\u001b[39;49m\u001b[43mend\u001b[49m\u001b[43m(\u001b[49m\u001b[43m)\u001b[49m\u001b[43m)\u001b[49m\n\u001b[1;32m    345\u001b[0m end \u001b[38;5;241m=\u001b[39m _w(s, end)\u001b[38;5;241m.\u001b[39mend()\n",
      "File \u001b[0;32m/usr/lib64/python3.13/json/decoder.py:362\u001b[0m, in \u001b[0;36mJSONDecoder.raw_decode\u001b[0;34m(self, s, idx)\u001b[0m\n\u001b[1;32m    361\u001b[0m \u001b[38;5;28;01mexcept\u001b[39;00m \u001b[38;5;167;01mStopIteration\u001b[39;00m \u001b[38;5;28;01mas\u001b[39;00m err:\n\u001b[0;32m--> 362\u001b[0m     \u001b[38;5;28;01mraise\u001b[39;00m JSONDecodeError(\u001b[38;5;124m\"\u001b[39m\u001b[38;5;124mExpecting value\u001b[39m\u001b[38;5;124m\"\u001b[39m, s, err\u001b[38;5;241m.\u001b[39mvalue) \u001b[38;5;28;01mfrom\u001b[39;00m \u001b[38;5;28;01mNone\u001b[39;00m\n\u001b[1;32m    363\u001b[0m \u001b[38;5;28;01mreturn\u001b[39;00m obj, end\n",
      "\u001b[0;31mJSONDecodeError\u001b[0m: Expecting value: line 1 column 1 (char 0)",
      "\nDuring handling of the above exception, another exception occurred:\n",
      "\u001b[0;31mJSONDecodeError\u001b[0m                           Traceback (most recent call last)",
      "Cell \u001b[0;32mIn[4], line 30\u001b[0m\n\u001b[1;32m     27\u001b[0m \u001b[38;5;28;01mfor\u001b[39;00m batch \u001b[38;5;129;01min\u001b[39;00m processingBatches:\n\u001b[1;32m     28\u001b[0m     batchIDStr \u001b[38;5;241m=\u001b[39m \u001b[38;5;124m\"\u001b[39m\u001b[38;5;124m,\u001b[39m\u001b[38;5;124m\"\u001b[39m\u001b[38;5;241m.\u001b[39mjoin([ID \u001b[38;5;28;01mfor\u001b[39;00m ID \u001b[38;5;129;01min\u001b[39;00m batch])\n\u001b[0;32m---> 30\u001b[0m     summaries \u001b[38;5;241m=\u001b[39m \u001b[43mget_player_summaries\u001b[49m\u001b[43m(\u001b[49m\u001b[43mapiKey\u001b[49m\u001b[43m,\u001b[49m\u001b[43m \u001b[49m\u001b[43mbatchIDStr\u001b[49m\u001b[43m)\u001b[49m\n\u001b[1;32m     31\u001b[0m     banInfo \u001b[38;5;241m=\u001b[39m get_player_bans(apiKey, batchIDStr)\n\u001b[1;32m     33\u001b[0m     summaries \u001b[38;5;241m=\u001b[39m {s[\u001b[38;5;124m\"\u001b[39m\u001b[38;5;124msteamid\u001b[39m\u001b[38;5;124m\"\u001b[39m]: s \u001b[38;5;28;01mfor\u001b[39;00m s \u001b[38;5;129;01min\u001b[39;00m summaries}\n",
      "File \u001b[0;32m~/Source/steam_cheater_network_analysis/gather_user_data.py:13\u001b[0m, in \u001b[0;36mget_player_summaries\u001b[0;34m(api_key, steam_ids)\u001b[0m\n\u001b[1;32m      8\u001b[0m params \u001b[38;5;241m=\u001b[39m {\n\u001b[1;32m      9\u001b[0m     \u001b[38;5;124m'\u001b[39m\u001b[38;5;124mkey\u001b[39m\u001b[38;5;124m'\u001b[39m: api_key,\n\u001b[1;32m     10\u001b[0m     \u001b[38;5;124m'\u001b[39m\u001b[38;5;124msteamids\u001b[39m\u001b[38;5;124m'\u001b[39m: steam_ids\n\u001b[1;32m     11\u001b[0m }\n\u001b[1;32m     12\u001b[0m response \u001b[38;5;241m=\u001b[39m requests\u001b[38;5;241m.\u001b[39mget(url, params\u001b[38;5;241m=\u001b[39mparams)\n\u001b[0;32m---> 13\u001b[0m data \u001b[38;5;241m=\u001b[39m \u001b[43mresponse\u001b[49m\u001b[38;5;241;43m.\u001b[39;49m\u001b[43mjson\u001b[49m\u001b[43m(\u001b[49m\u001b[43m)\u001b[49m\n\u001b[1;32m     14\u001b[0m \u001b[38;5;28;01mreturn\u001b[39;00m data[\u001b[38;5;124m'\u001b[39m\u001b[38;5;124mresponse\u001b[39m\u001b[38;5;124m'\u001b[39m][\u001b[38;5;124m'\u001b[39m\u001b[38;5;124mplayers\u001b[39m\u001b[38;5;124m'\u001b[39m]\n",
      "File \u001b[0;32m/usr/lib/python3.13/site-packages/requests/models.py:978\u001b[0m, in \u001b[0;36mResponse.json\u001b[0;34m(self, **kwargs)\u001b[0m\n\u001b[1;32m    974\u001b[0m     \u001b[38;5;28;01mreturn\u001b[39;00m complexjson\u001b[38;5;241m.\u001b[39mloads(\u001b[38;5;28mself\u001b[39m\u001b[38;5;241m.\u001b[39mtext, \u001b[38;5;241m*\u001b[39m\u001b[38;5;241m*\u001b[39mkwargs)\n\u001b[1;32m    975\u001b[0m \u001b[38;5;28;01mexcept\u001b[39;00m JSONDecodeError \u001b[38;5;28;01mas\u001b[39;00m e:\n\u001b[1;32m    976\u001b[0m     \u001b[38;5;66;03m# Catch JSON-related errors and raise as requests.JSONDecodeError\u001b[39;00m\n\u001b[1;32m    977\u001b[0m     \u001b[38;5;66;03m# This aliases json.JSONDecodeError and simplejson.JSONDecodeError\u001b[39;00m\n\u001b[0;32m--> 978\u001b[0m     \u001b[38;5;28;01mraise\u001b[39;00m RequestsJSONDecodeError(e\u001b[38;5;241m.\u001b[39mmsg, e\u001b[38;5;241m.\u001b[39mdoc, e\u001b[38;5;241m.\u001b[39mpos)\n",
      "\u001b[0;31mJSONDecodeError\u001b[0m: Expecting value: line 1 column 1 (char 0)"
     ]
    }
   ],
   "source": [
    "import pandas\n",
    "from gather_user_data import (\n",
    "    get_friend_list,\n",
    "    get_player_bans,\n",
    "    get_player_summaries,\n",
    "    get_recent_playtime,\n",
    "    get_user_group_list,\n",
    "    get_owned_games\n",
    ")\n",
    "\n",
    "while len(processingQueue) > 0:\n",
    "    processingBatches = list[set[str]]()\n",
    "    while len(processingQueue) > 0:\n",
    "        batch = set[str]()\n",
    "\n",
    "        while len(batch) < 100 and len(processingQueue) > 0:\n",
    "            nextItem = processingQueue.popleft()\n",
    "            if nextItem in processedIDs or not isinstance(nextItem, str):\n",
    "                continue\n",
    "\n",
    "            batch.add(nextItem)\n",
    "            processedIDs.add(nextItem)\n",
    "\n",
    "        if len(batch) > 0:\n",
    "            processingBatches.append(batch)\n",
    "\n",
    "    for batch in processingBatches:\n",
    "        batchIDStr = \",\".join([ID for ID in batch])\n",
    "\n",
    "        summaries = get_player_summaries(apiKey, batchIDStr)\n",
    "        banInfo = get_player_bans(apiKey, batchIDStr)\n",
    "\n",
    "        summaries = {s[\"steamid\"]: s for s in summaries}\n",
    "\n",
    "        # Combine ban info into same dict\n",
    "        for b in banInfo:\n",
    "            steamID = b[\"SteamId\"]\n",
    "            if(steamID not in summaries):\n",
    "                print(f\"ID {steamID} somehow not in fetched summaries... skipping\")\n",
    "                batch.remove(steamID)\n",
    "                continue\n",
    "\n",
    "            summaries[steamID] = summaries[steamID] | b\n",
    "\n",
    "        for steamid in batch:\n",
    "            friends = get_friend_list(apiKey, steamid, \"all\")\n",
    "            ownedGames = get_owned_games(apiKey, steamid)\n",
    "            userGroups = get_user_group_list(apiKey, steamid)\n",
    "            recentlyPlayed = get_recent_playtime(apiKey, steamid)\n",
    "\n",
    "            summaries[steamid][\"friendsList\"] = friends\n",
    "            summaries[steamid][\"ownedGames\"] = ownedGames\n",
    "            summaries[steamid][\"groups\"] = userGroups\n",
    "            summaries[steamid][\"recentlyPlayed\"] = recentlyPlayed\n",
    "\n",
    "            for f in [f for f in friends if f[\"steamid\"] not in processedIDs]:\n",
    "                processingQueue.append(f[\"steamid\"])\n",
    "\n",
    "\n",
    "        df = DataFrame.from_dict(summaries, orient=\"index\")\n",
    "\n",
    "        data2: DataFrame = pandas.concat([data2, df]) # type: ignore\n",
    "        with open(\"data/bloomData.pkl\", \"wb\") as blmdataPickle:\n",
    "            pickle.dump(data2, blmdataPickle)\n",
    "        \n",
    "        batchesDone += 1"
   ]
  },
  {
   "cell_type": "code",
   "execution_count": null,
   "metadata": {},
   "outputs": [],
   "source": [
    "with open(\"data/bloomData.pkl\", \"wb\") as blmdataPickle:\n",
    "    pickle.dump(data2, blmdataPickle)"
   ]
  },
  {
   "cell_type": "code",
   "execution_count": null,
   "metadata": {},
   "outputs": [
    {
     "data": {
      "text/plain": [
       "True"
      ]
     },
     "execution_count": 6,
     "metadata": {},
     "output_type": "execute_result"
    }
   ],
   "source": [
    "\"76561199016387141\" in data2.index"
   ]
  },
  {
   "cell_type": "code",
   "execution_count": null,
   "metadata": {},
   "outputs": [
    {
     "data": {
      "text/plain": [
       "steamid                                                     76561199016387141\n",
       "communityvisibilitystate                                                    3\n",
       "personaname                                                           leandro\n",
       "profileurl                  https://steamcommunity.com/profiles/7656119901...\n",
       "avatar                      https://avatars.steamstatic.com/fef49e7fa7e199...\n",
       "avatarmedium                https://avatars.steamstatic.com/fef49e7fa7e199...\n",
       "avatarfull                  https://avatars.steamstatic.com/fef49e7fa7e199...\n",
       "avatarhash                           fef49e7fa7e1997310d705b2a6158ff8dc1cdfeb\n",
       "personastate                                                                0\n",
       "primaryclanid                                              103582791429521408\n",
       "timecreated                                                      1578246211.0\n",
       "personastateflags                                                         0.0\n",
       "SteamId                                                     76561199016387141\n",
       "CommunityBanned                                                         False\n",
       "VACBanned                                                               False\n",
       "NumberOfVACBans                                                             0\n",
       "DaysSinceLastBan                                                            0\n",
       "NumberOfGameBans                                                            0\n",
       "EconomyBan                                                               none\n",
       "friendsList                                                                []\n",
       "ownedGames                                                                 []\n",
       "groups                                                                     []\n",
       "recentlyPlayed                                                             {}\n",
       "profilestate                                                              NaN\n",
       "commentpermission                                                         NaN\n",
       "realname                                                                  NaN\n",
       "loccountrycode                                                            NaN\n",
       "locstatecode                                                              NaN\n",
       "loccityid                                                                 NaN\n",
       "gameserverip                                                              NaN\n",
       "gameserversteamid                                                         NaN\n",
       "gameextrainfo                                                             NaN\n",
       "gameid                                                                    NaN\n",
       "lobbysteamid                                                              NaN\n",
       "Name: 76561199016387141, dtype: object"
      ]
     },
     "execution_count": 8,
     "metadata": {},
     "output_type": "execute_result"
    }
   ],
   "source": [
    "data2.loc[\"76561199016387141\"]"
   ]
  }
 ],
 "metadata": {
  "kernelspec": {
   "display_name": ".venv",
   "language": "python",
   "name": "python3"
  },
  "language_info": {
   "codemirror_mode": {
    "name": "ipython",
    "version": 3
   },
   "file_extension": ".py",
   "mimetype": "text/x-python",
   "name": "python",
   "nbconvert_exporter": "python",
   "pygments_lexer": "ipython3",
   "version": "3.13.0"
  }
 },
 "nbformat": 4,
 "nbformat_minor": 2
}
